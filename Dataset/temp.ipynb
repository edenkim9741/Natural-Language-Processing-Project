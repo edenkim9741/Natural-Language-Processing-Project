{
 "cells": [
  {
   "cell_type": "code",
   "execution_count": 2,
   "id": "e37f916d",
   "metadata": {},
   "outputs": [],
   "source": [
    "    \n",
    "import pandas as pd\n",
    "\n",
    "train_path = \"train.csv\"\n",
    "validation_path = \"validation.csv\"\n",
    "test_path = \"test.csv\"\n",
    "\n",
    "\n",
    "df_train = pd.read_csv(train_path)\n",
    "df_validation = pd.read_csv(validation_path)\n",
    "df_test = pd.read_csv(test_path)\n",
    "\n",
    "df_all = pd.concat([df_train, df_validation, df_test], ignore_index=True)\n",
    "temp_full_csv = \"temp_full_dataset.csv\"\n",
    "df_all.to_csv(temp_full_csv, index=False)\n",
    "\n"
   ]
  },
  {
   "cell_type": "code",
   "execution_count": null,
   "id": "bfe33c37",
   "metadata": {},
   "outputs": [],
   "source": []
  }
 ],
 "metadata": {
  "kernelspec": {
   "display_name": "temp",
   "language": "python",
   "name": "python3"
  },
  "language_info": {
   "codemirror_mode": {
    "name": "ipython",
    "version": 3
   },
   "file_extension": ".py",
   "mimetype": "text/x-python",
   "name": "python",
   "nbconvert_exporter": "python",
   "pygments_lexer": "ipython3",
   "version": "3.12.11"
  }
 },
 "nbformat": 4,
 "nbformat_minor": 5
}
