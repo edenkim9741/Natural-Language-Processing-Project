{
 "cells": [
  {
   "cell_type": "code",
   "execution_count": 3,
   "id": "73eb57e2-a65a-48ad-b98d-d4450937fe39",
   "metadata": {
    "execution": {
     "iopub.execute_input": "2025-05-15T13:02:57.757952Z",
     "iopub.status.busy": "2025-05-15T13:02:57.757404Z",
     "iopub.status.idle": "2025-05-15T13:03:36.863084Z",
     "shell.execute_reply": "2025-05-15T13:03:36.861464Z",
     "shell.execute_reply.started": "2025-05-15T13:02:57.757909Z"
    }
   },
   "outputs": [
    {
     "data": {
      "application/vnd.jupyter.widget-view+json": {
       "model_id": "404027d3f2324ca896992ea9b0302ed4",
       "version_major": 2,
       "version_minor": 0
      },
      "text/plain": [
       "preprocessor_config.json:   0%|          | 0.00/159 [00:00<?, ?B/s]"
      ]
     },
     "metadata": {},
     "output_type": "display_data"
    },
    {
     "data": {
      "application/vnd.jupyter.widget-view+json": {
       "model_id": "9355c5079acd442da5fd6066a2de004a",
       "version_major": 2,
       "version_minor": 0
      },
      "text/plain": [
       "tokenizer_config.json:   0%|          | 0.00/163 [00:00<?, ?B/s]"
      ]
     },
     "metadata": {},
     "output_type": "display_data"
    },
    {
     "data": {
      "application/vnd.jupyter.widget-view+json": {
       "model_id": "263a8f3d7dea4b72b9815a75a12aff45",
       "version_major": 2,
       "version_minor": 0
      },
      "text/plain": [
       "config.json:   0%|          | 0.00/1.60k [00:00<?, ?B/s]"
      ]
     },
     "metadata": {},
     "output_type": "display_data"
    },
    {
     "data": {
      "application/vnd.jupyter.widget-view+json": {
       "model_id": "ded282f11a054186baebc4445cb44be2",
       "version_major": 2,
       "version_minor": 0
      },
      "text/plain": [
       "vocab.json:   0%|          | 0.00/291 [00:00<?, ?B/s]"
      ]
     },
     "metadata": {},
     "output_type": "display_data"
    },
    {
     "data": {
      "application/vnd.jupyter.widget-view+json": {
       "model_id": "88a4f57a83c24150932363f428fe0405",
       "version_major": 2,
       "version_minor": 0
      },
      "text/plain": [
       "special_tokens_map.json:   0%|          | 0.00/85.0 [00:00<?, ?B/s]"
      ]
     },
     "metadata": {},
     "output_type": "display_data"
    },
    {
     "data": {
      "application/vnd.jupyter.widget-view+json": {
       "model_id": "72b16cb881c74b09b069f02979b8e474",
       "version_major": 2,
       "version_minor": 0
      },
      "text/plain": [
       "model.safetensors:   0%|          | 0.00/378M [00:00<?, ?B/s]"
      ]
     },
     "metadata": {},
     "output_type": "display_data"
    },
    {
     "name": "stderr",
     "output_type": "stream",
     "text": [
      "Some weights of Wav2Vec2Model were not initialized from the model checkpoint at facebook/wav2vec2-base-960h and are newly initialized: ['masked_spec_embed']\n",
      "You should probably TRAIN this model on a down-stream task to be able to use it for predictions and inference.\n"
     ]
    }
   ],
   "source": [
    "import torch\n",
    "import torchaudio\n",
    "from transformers import Wav2Vec2Processor, Wav2Vec2Model\n",
    "\n",
    "# 예시 로딩\n",
    "processor = Wav2Vec2Processor.from_pretrained(\"facebook/wav2vec2-base-960h\")\n",
    "model = Wav2Vec2Model.from_pretrained(\"facebook/wav2vec2-base-960h\")"
   ]
  },
  {
   "cell_type": "code",
   "execution_count": 8,
   "id": "d40607b6-78e4-4f2f-840d-fa1c8efdab8a",
   "metadata": {
    "execution": {
     "iopub.execute_input": "2025-05-15T13:20:35.582812Z",
     "iopub.status.busy": "2025-05-15T13:20:35.582109Z",
     "iopub.status.idle": "2025-05-15T13:20:35.594073Z",
     "shell.execute_reply": "2025-05-15T13:20:35.592319Z",
     "shell.execute_reply.started": "2025-05-15T13:20:35.582755Z"
    }
   },
   "outputs": [],
   "source": [
    "from gtts import gTTS\n",
    "\n",
    "## gTTS를 이용한 텍스트 투 스피치 구현!!\n",
    "def text_to_speech(text, out_path='temp.wav'):\n",
    "    tts = gTTS(text=text, lang='ko')\n",
    "    tts.save('temp.mp3')\n",
    "\n",
    "    # mp3에서 wav로 변환\n",
    "    import subprocess\n",
    "    subprocess.call(['ffmpeg', '-y', '-i', 'temp.mp3', out_path])\n",
    "\n",
    "    return out_path"
   ]
  },
  {
   "cell_type": "code",
   "execution_count": 10,
   "id": "62d6decc-dcba-4624-95db-c2ab4b6673f7",
   "metadata": {
    "execution": {
     "iopub.execute_input": "2025-05-15T13:21:27.589516Z",
     "iopub.status.busy": "2025-05-15T13:21:27.588770Z",
     "iopub.status.idle": "2025-05-15T13:21:27.603223Z",
     "shell.execute_reply": "2025-05-15T13:21:27.601572Z",
     "shell.execute_reply.started": "2025-05-15T13:21:27.589449Z"
    }
   },
   "outputs": [],
   "source": [
    "import torch\n",
    "import torchaudio\n",
    "from transformers import Wav2Vec2Processor, Wav2Vec2Model\n",
    "\n",
    "def extract_vector(audio_path):\n",
    "    # load model\n",
    "    processor = Wav2Vec2Processor.from_pretrained(\"facebook/wav2vec2-base-960h\")\n",
    "    model = Wav2Vec2Model.from_pretrained(\"facebook/wav2vec2-base-960h\")\n",
    "    model.eval()\n",
    "\n",
    "    # load audio\n",
    "    waveform, sample_rate = torchaudio.load(audio_path)\n",
    "\n",
    "    # resample if not 16kHz\n",
    "    if sample_rate != 16000:\n",
    "        resampler = torchaudio.transforms.Resample(orig_freq=sample_rate, new_freq=16000)\n",
    "        waveform = resampler(waveform)\n",
    "\n",
    "    # 특징 추출하기\n",
    "    inputs = processor(waveform.squeeze(), sampling_rate=16000, return_tensors=\"pt\")\n",
    "    with torch.no_grad():\n",
    "        outputs = model(**inputs)\n",
    "    \n",
    "    # 평균 벡터 (Global feature vector)\n",
    "    return outputs.last_hidden_state.mean(dim=1)\n"
   ]
  },
  {
   "cell_type": "code",
   "execution_count": 23,
   "id": "4ec6108a-8382-4e79-83a3-ce1a27878fef",
   "metadata": {
    "execution": {
     "iopub.execute_input": "2025-05-17T06:31:55.542745Z",
     "iopub.status.busy": "2025-05-17T06:31:55.542168Z",
     "iopub.status.idle": "2025-05-17T06:33:51.504496Z",
     "shell.execute_reply": "2025-05-17T06:33:51.502753Z",
     "shell.execute_reply.started": "2025-05-17T06:31:55.542695Z"
    }
   },
   "outputs": [
    {
     "name": "stdout",
     "output_type": "stream",
     "text": [
      "Collecting TTS\n",
      "  Downloading TTS-0.22.0-cp311-cp311-manylinux1_x86_64.whl.metadata (21 kB)\n",
      "Requirement already satisfied: cython>=0.29.30 in /usr/local/lib/python3.11/dist-packages (from TTS) (3.0.10)\n",
      "Requirement already satisfied: scipy>=1.11.2 in /usr/local/lib/python3.11/dist-packages (from TTS) (1.13.1)\n",
      "Requirement already satisfied: torch>=2.1 in /home/jovyan_venv/.venv/torch2.3.0-py3.11-cuda12.1/lib/python3.11/site-packages (from TTS) (2.3.0+cu121)\n",
      "Requirement already satisfied: torchaudio in /home/jovyan_venv/.venv/torch2.3.0-py3.11-cuda12.1/lib/python3.11/site-packages (from TTS) (2.3.0+cu121)\n",
      "Collecting soundfile>=0.12.0 (from TTS)\n",
      "  Downloading soundfile-0.13.1-py2.py3-none-manylinux_2_28_x86_64.whl.metadata (16 kB)\n",
      "Collecting librosa>=0.10.0 (from TTS)\n",
      "  Downloading librosa-0.11.0-py3-none-any.whl.metadata (8.7 kB)\n",
      "Requirement already satisfied: scikit-learn>=1.3.0 in /usr/local/lib/python3.11/dist-packages (from TTS) (1.5.0)\n",
      "Collecting inflect>=5.6.0 (from TTS)\n",
      "  Downloading inflect-7.5.0-py3-none-any.whl.metadata (24 kB)\n",
      "Requirement already satisfied: tqdm>=4.64.1 in /home/jovyan_venv/.venv/torch2.3.0-py3.11-cuda12.1/lib/python3.11/site-packages (from TTS) (4.66.4)\n",
      "Collecting anyascii>=0.3.0 (from TTS)\n",
      "  Downloading anyascii-0.3.2-py3-none-any.whl.metadata (1.5 kB)\n",
      "Requirement already satisfied: pyyaml>=6.0 in /home/jovyan/.local/lib/python3.11/site-packages (from TTS) (6.0.2)\n",
      "Requirement already satisfied: fsspec>=2023.6.0 in /home/jovyan_venv/.venv/torch2.3.0-py3.11-cuda12.1/lib/python3.11/site-packages (from TTS) (2024.5.0)\n",
      "Requirement already satisfied: aiohttp>=3.8.1 in /home/jovyan_venv/.venv/torch2.3.0-py3.11-cuda12.1/lib/python3.11/site-packages (from TTS) (3.9.5)\n",
      "Requirement already satisfied: packaging>=23.1 in /home/jovyan_venv/.venv/torch2.3.0-py3.11-cuda12.1/lib/python3.11/site-packages (from TTS) (23.2)\n",
      "Requirement already satisfied: flask>=2.0.1 in /usr/local/lib/python3.11/dist-packages (from TTS) (2.2.2)\n",
      "Collecting pysbd>=0.3.4 (from TTS)\n",
      "  Downloading pysbd-0.3.4-py3-none-any.whl.metadata (6.1 kB)\n",
      "Collecting umap-learn>=0.5.1 (from TTS)\n",
      "  Downloading umap_learn-0.5.7-py3-none-any.whl.metadata (21 kB)\n",
      "Collecting pandas<2.0,>=1.4 (from TTS)\n",
      "  Downloading pandas-1.5.3-cp311-cp311-manylinux_2_17_x86_64.manylinux2014_x86_64.whl.metadata (11 kB)\n",
      "Requirement already satisfied: matplotlib>=3.7.0 in /usr/local/lib/python3.11/dist-packages (from TTS) (3.9.0)\n",
      "Collecting trainer>=0.0.32 (from TTS)\n",
      "  Downloading trainer-0.0.36-py3-none-any.whl.metadata (8.1 kB)\n",
      "Collecting coqpit>=0.0.16 (from TTS)\n",
      "  Downloading coqpit-0.0.17-py3-none-any.whl.metadata (11 kB)\n",
      "Collecting jieba (from TTS)\n",
      "  Downloading jieba-0.42.1.tar.gz (19.2 MB)\n",
      "\u001b[2K     \u001b[90m━━━━━━━━━━━━━━━━━━━━━━━━━━━━━━━━━━━━━━━━\u001b[0m \u001b[32m19.2/19.2 MB\u001b[0m \u001b[31m30.0 MB/s\u001b[0m eta \u001b[36m0:00:00\u001b[0m00:01\u001b[0m00:01\u001b[0m\n",
      "\u001b[?25h  Preparing metadata (setup.py) ... \u001b[?25ldone\n",
      "\u001b[?25hCollecting pypinyin (from TTS)\n",
      "  Downloading pypinyin-0.54.0-py2.py3-none-any.whl.metadata (12 kB)\n",
      "Collecting hangul-romanize (from TTS)\n",
      "  Downloading hangul_romanize-0.1.0-py3-none-any.whl.metadata (1.2 kB)\n",
      "Collecting gruut==2.2.3 (from gruut[de,es,fr]==2.2.3->TTS)\n",
      "  Downloading gruut-2.2.3.tar.gz (73 kB)\n",
      "  Preparing metadata (setup.py) ... \u001b[?25ldone\n",
      "\u001b[?25hRequirement already satisfied: jamo in /home/jovyan_venv/.venv/torch2.3.0-py3.11-cuda12.1/lib/python3.11/site-packages (from TTS) (0.4.1)\n",
      "Requirement already satisfied: nltk in /home/jovyan/.local/lib/python3.11/site-packages (from TTS) (3.9.1)\n",
      "Collecting g2pkk>=0.1.1 (from TTS)\n",
      "  Downloading g2pkk-0.1.2-py3-none-any.whl.metadata (2.0 kB)\n",
      "Collecting bangla (from TTS)\n",
      "  Downloading bangla-0.0.5-py3-none-any.whl.metadata (4.7 kB)\n",
      "Collecting bnnumerizer (from TTS)\n",
      "  Downloading bnnumerizer-0.0.2.tar.gz (4.7 kB)\n",
      "  Preparing metadata (setup.py) ... \u001b[?25ldone\n",
      "\u001b[?25hCollecting bnunicodenormalizer (from TTS)\n",
      "  Downloading bnunicodenormalizer-0.1.7-py3-none-any.whl.metadata (22 kB)\n",
      "Requirement already satisfied: einops>=0.6.0 in /home/jovyan_venv/.venv/torch2.3.0-py3.11-cuda12.1/lib/python3.11/site-packages (from TTS) (0.8.1)\n",
      "Requirement already satisfied: transformers>=4.33.0 in /home/jovyan_venv/.venv/torch2.3.0-py3.11-cuda12.1/lib/python3.11/site-packages (from TTS) (4.50.3)\n",
      "Collecting encodec>=0.1.1 (from TTS)\n",
      "  Downloading encodec-0.1.1.tar.gz (3.7 MB)\n",
      "\u001b[2K     \u001b[90m━━━━━━━━━━━━━━━━━━━━━━━━━━━━━━━━━━━━━━━━\u001b[0m \u001b[32m3.7/3.7 MB\u001b[0m \u001b[31m13.6 MB/s\u001b[0m eta \u001b[36m0:00:00\u001b[0m:00:01\u001b[0m\n",
      "\u001b[?25h  Preparing metadata (setup.py) ... \u001b[?25ldone\n",
      "\u001b[?25hCollecting unidecode>=1.3.2 (from TTS)\n",
      "  Downloading Unidecode-1.4.0-py3-none-any.whl.metadata (13 kB)\n",
      "Collecting num2words (from TTS)\n",
      "  Downloading num2words-0.5.14-py3-none-any.whl.metadata (13 kB)\n",
      "Collecting spacy>=3 (from spacy[ja]>=3->TTS)\n",
      "  Downloading spacy-3.8.4-cp311-cp311-manylinux_2_17_x86_64.manylinux2014_x86_64.whl.metadata (27 kB)\n",
      "Requirement already satisfied: numpy>=1.24.3 in /home/jovyan/.local/lib/python3.11/site-packages (from TTS) (2.2.4)\n",
      "Collecting numba>=0.57.0 (from TTS)\n",
      "  Downloading numba-0.61.2-cp311-cp311-manylinux2014_x86_64.manylinux_2_17_x86_64.whl.metadata (2.8 kB)\n",
      "Requirement already satisfied: Babel<3.0.0,>=2.8.0 in /usr/local/lib/python3.11/dist-packages (from gruut==2.2.3->gruut[de,es,fr]==2.2.3->TTS) (2.15.0)\n",
      "Collecting dateparser~=1.1.0 (from gruut==2.2.3->gruut[de,es,fr]==2.2.3->TTS)\n",
      "  Downloading dateparser-1.1.8-py2.py3-none-any.whl.metadata (27 kB)\n",
      "Collecting gruut-ipa<1.0,>=0.12.0 (from gruut==2.2.3->gruut[de,es,fr]==2.2.3->TTS)\n",
      "  Downloading gruut-ipa-0.13.0.tar.gz (101 kB)\n",
      "  Preparing metadata (setup.py) ... \u001b[?25ldone\n",
      "\u001b[?25hCollecting gruut_lang_en~=2.0.0 (from gruut==2.2.3->gruut[de,es,fr]==2.2.3->TTS)\n",
      "  Downloading gruut_lang_en-2.0.1.tar.gz (15.3 MB)\n",
      "\u001b[2K     \u001b[90m━━━━━━━━━━━━━━━━━━━━━━━━━━━━━━━━━━━━━━━━\u001b[0m \u001b[32m15.3/15.3 MB\u001b[0m \u001b[31m18.3 MB/s\u001b[0m eta \u001b[36m0:00:00\u001b[0m00:01\u001b[0m00:01\u001b[0m\n",
      "\u001b[?25h  Preparing metadata (setup.py) ... \u001b[?25ldone\n",
      "\u001b[?25hCollecting jsonlines~=1.2.0 (from gruut==2.2.3->gruut[de,es,fr]==2.2.3->TTS)\n",
      "  Downloading jsonlines-1.2.0-py2.py3-none-any.whl.metadata (1.3 kB)\n",
      "Collecting networkx<3.0.0,>=2.5.0 (from gruut==2.2.3->gruut[de,es,fr]==2.2.3->TTS)\n",
      "  Downloading networkx-2.8.8-py3-none-any.whl.metadata (5.1 kB)\n",
      "Collecting numpy>=1.24.3 (from TTS)\n",
      "  Downloading numpy-1.26.4-cp311-cp311-manylinux_2_17_x86_64.manylinux2014_x86_64.whl.metadata (61 kB)\n",
      "Collecting python-crfsuite~=0.9.7 (from gruut==2.2.3->gruut[de,es,fr]==2.2.3->TTS)\n",
      "  Downloading python_crfsuite-0.9.11-cp311-cp311-manylinux_2_17_x86_64.manylinux2014_x86_64.whl.metadata (4.3 kB)\n",
      "Collecting gruut_lang_fr~=2.0.0 (from gruut[de,es,fr]==2.2.3->TTS)\n",
      "  Downloading gruut_lang_fr-2.0.2.tar.gz (10.9 MB)\n",
      "\u001b[2K     \u001b[90m━━━━━━━━━━━━━━━━━━━━━━━━━━━━━━━━━━━━━━━━\u001b[0m \u001b[32m10.9/10.9 MB\u001b[0m \u001b[31m25.4 MB/s\u001b[0m eta \u001b[36m0:00:00\u001b[0m00:01\u001b[0m\n",
      "\u001b[?25h  Preparing metadata (setup.py) ... \u001b[?25ldone\n",
      "\u001b[?25hCollecting gruut_lang_es~=2.0.0 (from gruut[de,es,fr]==2.2.3->TTS)\n",
      "  Downloading gruut_lang_es-2.0.1.tar.gz (31.4 MB)\n",
      "\u001b[2K     \u001b[90m━━━━━━━━━━━━━━━━━━━━━━━━━━━━━━━━━━━━━━━━\u001b[0m \u001b[32m31.4/31.4 MB\u001b[0m \u001b[31m29.0 MB/s\u001b[0m eta \u001b[36m0:00:00\u001b[0m00:01\u001b[0m00:01\u001b[0m\n",
      "\u001b[?25h  Preparing metadata (setup.py) ... \u001b[?25ldone\n",
      "\u001b[?25hCollecting gruut_lang_de~=2.0.0 (from gruut[de,es,fr]==2.2.3->TTS)\n",
      "  Downloading gruut_lang_de-2.0.1.tar.gz (18.1 MB)\n",
      "\u001b[2K     \u001b[90m━━━━━━━━━━━━━━━━━━━━━━━━━━━━━━━━━━━━━━━━\u001b[0m \u001b[32m18.1/18.1 MB\u001b[0m \u001b[31m23.9 MB/s\u001b[0m eta \u001b[36m0:00:00\u001b[0m00:01\u001b[0m\n",
      "\u001b[?25h  Preparing metadata (setup.py) ... \u001b[?25ldone\n",
      "\u001b[?25hRequirement already satisfied: aiosignal>=1.1.2 in /home/jovyan_venv/.venv/torch2.3.0-py3.11-cuda12.1/lib/python3.11/site-packages (from aiohttp>=3.8.1->TTS) (1.3.1)\n",
      "Requirement already satisfied: attrs>=17.3.0 in /usr/local/lib/python3.11/dist-packages (from aiohttp>=3.8.1->TTS) (23.1.0)\n",
      "Requirement already satisfied: frozenlist>=1.1.1 in /home/jovyan_venv/.venv/torch2.3.0-py3.11-cuda12.1/lib/python3.11/site-packages (from aiohttp>=3.8.1->TTS) (1.4.1)\n",
      "Requirement already satisfied: multidict<7.0,>=4.5 in /home/jovyan_venv/.venv/torch2.3.0-py3.11-cuda12.1/lib/python3.11/site-packages (from aiohttp>=3.8.1->TTS) (6.0.5)\n",
      "Requirement already satisfied: yarl<2.0,>=1.0 in /home/jovyan_venv/.venv/torch2.3.0-py3.11-cuda12.1/lib/python3.11/site-packages (from aiohttp>=3.8.1->TTS) (1.9.4)\n",
      "Requirement already satisfied: Werkzeug>=2.2.2 in /usr/local/lib/python3.11/dist-packages (from flask>=2.0.1->TTS) (2.3.6)\n",
      "Requirement already satisfied: Jinja2>=3.0 in /home/jovyan/.local/lib/python3.11/site-packages (from flask>=2.0.1->TTS) (3.1.6)\n",
      "Requirement already satisfied: itsdangerous>=2.0 in /usr/local/lib/python3.11/dist-packages (from flask>=2.0.1->TTS) (2.1.2)\n",
      "Requirement already satisfied: click>=8.0 in /usr/local/lib/python3.11/dist-packages (from flask>=2.0.1->TTS) (8.0.0)\n",
      "Requirement already satisfied: more_itertools>=8.5.0 in /usr/lib/python3/dist-packages (from inflect>=5.6.0->TTS) (8.10.0)\n",
      "Collecting typeguard>=4.0.1 (from inflect>=5.6.0->TTS)\n",
      "  Downloading typeguard-4.4.2-py3-none-any.whl.metadata (3.8 kB)\n",
      "Collecting audioread>=2.1.9 (from librosa>=0.10.0->TTS)\n",
      "  Downloading audioread-3.0.1-py3-none-any.whl.metadata (8.4 kB)\n",
      "Requirement already satisfied: joblib>=1.0 in /usr/local/lib/python3.11/dist-packages (from librosa>=0.10.0->TTS) (1.4.2)\n",
      "Requirement already satisfied: decorator>=4.3.0 in /usr/local/lib/python3.11/dist-packages (from librosa>=0.10.0->TTS) (5.1.1)\n",
      "Collecting pooch>=1.1 (from librosa>=0.10.0->TTS)\n",
      "  Downloading pooch-1.8.2-py3-none-any.whl.metadata (10 kB)\n",
      "Collecting soxr>=0.3.2 (from librosa>=0.10.0->TTS)\n",
      "  Downloading soxr-0.5.0.post1-cp311-cp311-manylinux_2_17_x86_64.manylinux2014_x86_64.whl.metadata (5.6 kB)\n",
      "Requirement already satisfied: typing_extensions>=4.1.1 in /home/jovyan/.local/lib/python3.11/site-packages (from librosa>=0.10.0->TTS) (4.13.1)\n",
      "Requirement already satisfied: lazy_loader>=0.1 in /usr/local/lib/python3.11/dist-packages (from librosa>=0.10.0->TTS) (0.4)\n",
      "Collecting msgpack>=1.0 (from librosa>=0.10.0->TTS)\n",
      "  Downloading msgpack-1.1.0-cp311-cp311-manylinux_2_17_x86_64.manylinux2014_x86_64.whl.metadata (8.4 kB)\n",
      "Requirement already satisfied: contourpy>=1.0.1 in /usr/local/lib/python3.11/dist-packages (from matplotlib>=3.7.0->TTS) (1.2.1)\n",
      "Requirement already satisfied: cycler>=0.10 in /usr/local/lib/python3.11/dist-packages (from matplotlib>=3.7.0->TTS) (0.12.1)\n",
      "Requirement already satisfied: fonttools>=4.22.0 in /usr/local/lib/python3.11/dist-packages (from matplotlib>=3.7.0->TTS) (4.52.1)\n",
      "Requirement already satisfied: kiwisolver>=1.3.1 in /usr/local/lib/python3.11/dist-packages (from matplotlib>=3.7.0->TTS) (1.4.5)\n",
      "Requirement already satisfied: pillow>=8 in /usr/local/lib/python3.11/dist-packages (from matplotlib>=3.7.0->TTS) (10.3.0)\n",
      "Requirement already satisfied: pyparsing>=2.3.1 in /usr/local/lib/python3.11/dist-packages (from matplotlib>=3.7.0->TTS) (3.1.2)\n",
      "Requirement already satisfied: python-dateutil>=2.7 in /usr/local/lib/python3.11/dist-packages (from matplotlib>=3.7.0->TTS) (2.9.0.post0)\n",
      "Collecting docopt>=0.6.2 (from num2words->TTS)\n",
      "  Downloading docopt-0.6.2.tar.gz (25 kB)\n",
      "  Preparing metadata (setup.py) ... \u001b[?25ldone\n",
      "\u001b[?25hCollecting llvmlite<0.45,>=0.44.0dev0 (from numba>=0.57.0->TTS)\n",
      "  Downloading llvmlite-0.44.0-cp311-cp311-manylinux_2_17_x86_64.manylinux2014_x86_64.whl.metadata (4.8 kB)\n",
      "Requirement already satisfied: pytz>=2020.1 in /usr/local/lib/python3.11/dist-packages (from pandas<2.0,>=1.4->TTS) (2023.3)\n",
      "Requirement already satisfied: threadpoolctl>=3.1.0 in /usr/local/lib/python3.11/dist-packages (from scikit-learn>=1.3.0->TTS) (3.5.0)\n",
      "Requirement already satisfied: cffi>=1.0 in /usr/local/lib/python3.11/dist-packages (from soundfile>=0.12.0->TTS) (1.16.0)\n",
      "Collecting spacy-legacy<3.1.0,>=3.0.11 (from spacy>=3->spacy[ja]>=3->TTS)\n",
      "  Downloading spacy_legacy-3.0.12-py2.py3-none-any.whl.metadata (2.8 kB)\n",
      "Collecting spacy-loggers<2.0.0,>=1.0.0 (from spacy>=3->spacy[ja]>=3->TTS)\n",
      "  Downloading spacy_loggers-1.0.5-py3-none-any.whl.metadata (23 kB)\n",
      "Collecting murmurhash<1.1.0,>=0.28.0 (from spacy>=3->spacy[ja]>=3->TTS)\n",
      "  Downloading murmurhash-1.0.12-cp311-cp311-manylinux_2_5_x86_64.manylinux1_x86_64.manylinux_2_17_x86_64.manylinux2014_x86_64.whl.metadata (2.1 kB)\n",
      "Collecting cymem<2.1.0,>=2.0.2 (from spacy>=3->spacy[ja]>=3->TTS)\n",
      "  Downloading cymem-2.0.11-cp311-cp311-manylinux_2_17_x86_64.manylinux2014_x86_64.whl.metadata (8.5 kB)\n",
      "Collecting preshed<3.1.0,>=3.0.2 (from spacy>=3->spacy[ja]>=3->TTS)\n",
      "  Downloading preshed-3.0.9-cp311-cp311-manylinux_2_5_x86_64.manylinux1_x86_64.manylinux_2_17_x86_64.manylinux2014_x86_64.whl.metadata (2.2 kB)\n",
      "Collecting thinc<8.4.0,>=8.3.4 (from spacy>=3->spacy[ja]>=3->TTS)\n",
      "  Downloading thinc-8.3.6-cp311-cp311-manylinux_2_17_x86_64.manylinux2014_x86_64.whl.metadata (15 kB)\n",
      "Collecting wasabi<1.2.0,>=0.9.1 (from spacy>=3->spacy[ja]>=3->TTS)\n",
      "  Downloading wasabi-1.1.3-py3-none-any.whl.metadata (28 kB)\n",
      "Collecting srsly<3.0.0,>=2.4.3 (from spacy>=3->spacy[ja]>=3->TTS)\n",
      "  Downloading srsly-2.5.1-cp311-cp311-manylinux_2_17_x86_64.manylinux2014_x86_64.whl.metadata (19 kB)\n",
      "Collecting catalogue<2.1.0,>=2.0.6 (from spacy>=3->spacy[ja]>=3->TTS)\n",
      "  Downloading catalogue-2.0.10-py3-none-any.whl.metadata (14 kB)\n",
      "Collecting weasel<0.5.0,>=0.1.0 (from spacy>=3->spacy[ja]>=3->TTS)\n",
      "  Downloading weasel-0.4.1-py3-none-any.whl.metadata (4.6 kB)\n",
      "Requirement already satisfied: typer<1.0.0,>=0.3.0 in /home/jovyan_venv/.venv/torch2.3.0-py3.11-cuda12.1/lib/python3.11/site-packages (from spacy>=3->spacy[ja]>=3->TTS) (0.12.3)\n",
      "Requirement already satisfied: requests<3.0.0,>=2.13.0 in /home/jovyan/.local/lib/python3.11/site-packages (from spacy>=3->spacy[ja]>=3->TTS) (2.32.3)\n",
      "Requirement already satisfied: pydantic!=1.8,!=1.8.1,<3.0.0,>=1.7.4 in /home/jovyan_venv/.venv/torch2.3.0-py3.11-cuda12.1/lib/python3.11/site-packages (from spacy>=3->spacy[ja]>=3->TTS) (2.7.1)\n",
      "Requirement already satisfied: setuptools in /home/jovyan_venv/.venv/torch2.3.0-py3.11-cuda12.1/lib/python3.11/site-packages (from spacy>=3->spacy[ja]>=3->TTS) (70.0.0)\n",
      "Collecting langcodes<4.0.0,>=3.2.0 (from spacy>=3->spacy[ja]>=3->TTS)\n",
      "  Downloading langcodes-3.5.0-py3-none-any.whl.metadata (29 kB)\n",
      "Collecting sudachipy!=0.6.1,>=0.5.2 (from spacy[ja]>=3->TTS)\n",
      "  Downloading SudachiPy-0.6.10-cp311-cp311-manylinux_2_17_x86_64.manylinux2014_x86_64.whl.metadata (12 kB)\n",
      "Collecting sudachidict_core>=20211220 (from spacy[ja]>=3->TTS)\n",
      "  Downloading SudachiDict_core-20250129-py3-none-any.whl.metadata (2.5 kB)\n",
      "Requirement already satisfied: filelock in /home/jovyan_venv/.venv/torch2.3.0-py3.11-cuda12.1/lib/python3.11/site-packages (from torch>=2.1->TTS) (3.14.0)\n",
      "Requirement already satisfied: sympy in /home/jovyan/.local/lib/python3.11/site-packages (from torch>=2.1->TTS) (1.13.1)\n",
      "Requirement already satisfied: nvidia-cuda-nvrtc-cu12==12.1.105 in /home/jovyan_venv/.venv/torch2.3.0-py3.11-cuda12.1/lib/python3.11/site-packages (from torch>=2.1->TTS) (12.1.105)\n",
      "Requirement already satisfied: nvidia-cuda-runtime-cu12==12.1.105 in /home/jovyan_venv/.venv/torch2.3.0-py3.11-cuda12.1/lib/python3.11/site-packages (from torch>=2.1->TTS) (12.1.105)\n",
      "Requirement already satisfied: nvidia-cuda-cupti-cu12==12.1.105 in /home/jovyan_venv/.venv/torch2.3.0-py3.11-cuda12.1/lib/python3.11/site-packages (from torch>=2.1->TTS) (12.1.105)\n",
      "Requirement already satisfied: nvidia-cudnn-cu12==8.9.2.26 in /home/jovyan_venv/.venv/torch2.3.0-py3.11-cuda12.1/lib/python3.11/site-packages (from torch>=2.1->TTS) (8.9.2.26)\n",
      "Requirement already satisfied: nvidia-cublas-cu12==12.1.3.1 in /home/jovyan_venv/.venv/torch2.3.0-py3.11-cuda12.1/lib/python3.11/site-packages (from torch>=2.1->TTS) (12.1.3.1)\n",
      "Requirement already satisfied: nvidia-cufft-cu12==11.0.2.54 in /home/jovyan_venv/.venv/torch2.3.0-py3.11-cuda12.1/lib/python3.11/site-packages (from torch>=2.1->TTS) (11.0.2.54)\n",
      "Requirement already satisfied: nvidia-curand-cu12==10.3.2.106 in /home/jovyan_venv/.venv/torch2.3.0-py3.11-cuda12.1/lib/python3.11/site-packages (from torch>=2.1->TTS) (10.3.2.106)\n",
      "Requirement already satisfied: nvidia-cusolver-cu12==11.4.5.107 in /home/jovyan_venv/.venv/torch2.3.0-py3.11-cuda12.1/lib/python3.11/site-packages (from torch>=2.1->TTS) (11.4.5.107)\n",
      "Requirement already satisfied: nvidia-cusparse-cu12==12.1.0.106 in /home/jovyan_venv/.venv/torch2.3.0-py3.11-cuda12.1/lib/python3.11/site-packages (from torch>=2.1->TTS) (12.1.0.106)\n",
      "Requirement already satisfied: nvidia-nccl-cu12==2.20.5 in /home/jovyan_venv/.venv/torch2.3.0-py3.11-cuda12.1/lib/python3.11/site-packages (from torch>=2.1->TTS) (2.20.5)\n",
      "Requirement already satisfied: nvidia-nvtx-cu12==12.1.105 in /home/jovyan_venv/.venv/torch2.3.0-py3.11-cuda12.1/lib/python3.11/site-packages (from torch>=2.1->TTS) (12.1.105)\n",
      "Requirement already satisfied: triton==2.3.0 in /home/jovyan_venv/.venv/torch2.3.0-py3.11-cuda12.1/lib/python3.11/site-packages (from torch>=2.1->TTS) (2.3.0)\n",
      "Requirement already satisfied: nvidia-nvjitlink-cu12 in /home/jovyan_venv/.venv/torch2.3.0-py3.11-cuda12.1/lib/python3.11/site-packages (from nvidia-cusolver-cu12==11.4.5.107->torch>=2.1->TTS) (12.5.40)\n",
      "Requirement already satisfied: psutil in /home/jovyan/.local/lib/python3.11/site-packages (from trainer>=0.0.32->TTS) (7.0.0)\n",
      "Requirement already satisfied: tensorboard in /home/jovyan_venv/.venv/torch2.3.0-py3.11-cuda12.1/lib/python3.11/site-packages (from trainer>=0.0.32->TTS) (2.15.0)\n",
      "Requirement already satisfied: huggingface-hub<1.0,>=0.26.0 in /home/jovyan_venv/.venv/torch2.3.0-py3.11-cuda12.1/lib/python3.11/site-packages (from transformers>=4.33.0->TTS) (0.30.1)\n",
      "Requirement already satisfied: regex!=2019.12.17 in /home/jovyan_venv/.venv/torch2.3.0-py3.11-cuda12.1/lib/python3.11/site-packages (from transformers>=4.33.0->TTS) (2024.5.15)\n",
      "Requirement already satisfied: tokenizers<0.22,>=0.21 in /home/jovyan_venv/.venv/torch2.3.0-py3.11-cuda12.1/lib/python3.11/site-packages (from transformers>=4.33.0->TTS) (0.21.1)\n",
      "Requirement already satisfied: safetensors>=0.4.3 in /home/jovyan_venv/.venv/torch2.3.0-py3.11-cuda12.1/lib/python3.11/site-packages (from transformers>=4.33.0->TTS) (0.4.3)\n",
      "Collecting pynndescent>=0.5 (from umap-learn>=0.5.1->TTS)\n",
      "  Downloading pynndescent-0.5.13-py3-none-any.whl.metadata (6.8 kB)\n",
      "Requirement already satisfied: pycparser in /usr/local/lib/python3.11/dist-packages (from cffi>=1.0->soundfile>=0.12.0->TTS) (2.22)\n",
      "Requirement already satisfied: tzlocal in /home/jovyan_venv/.venv/torch2.3.0-py3.11-cuda12.1/lib/python3.11/site-packages (from dateparser~=1.1.0->gruut==2.2.3->gruut[de,es,fr]==2.2.3->TTS) (5.2)\n",
      "Requirement already satisfied: MarkupSafe>=2.0 in /home/jovyan/.local/lib/python3.11/site-packages (from Jinja2>=3.0->flask>=2.0.1->TTS) (3.0.2)\n",
      "Requirement already satisfied: six in /usr/local/lib/python3.11/dist-packages (from jsonlines~=1.2.0->gruut==2.2.3->gruut[de,es,fr]==2.2.3->TTS) (1.16.0)\n",
      "Collecting language-data>=1.2 (from langcodes<4.0.0,>=3.2.0->spacy>=3->spacy[ja]>=3->TTS)\n",
      "  Downloading language_data-1.3.0-py3-none-any.whl.metadata (4.3 kB)\n",
      "Requirement already satisfied: platformdirs>=2.5.0 in /usr/local/lib/python3.11/dist-packages (from pooch>=1.1->librosa>=0.10.0->TTS) (4.2.0)\n",
      "Requirement already satisfied: annotated-types>=0.4.0 in /home/jovyan_venv/.venv/torch2.3.0-py3.11-cuda12.1/lib/python3.11/site-packages (from pydantic!=1.8,!=1.8.1,<3.0.0,>=1.7.4->spacy>=3->spacy[ja]>=3->TTS) (0.7.0)\n",
      "Requirement already satisfied: pydantic-core==2.18.2 in /home/jovyan_venv/.venv/torch2.3.0-py3.11-cuda12.1/lib/python3.11/site-packages (from pydantic!=1.8,!=1.8.1,<3.0.0,>=1.7.4->spacy>=3->spacy[ja]>=3->TTS) (2.18.2)\n",
      "Requirement already satisfied: charset-normalizer<4,>=2 in /home/jovyan/.local/lib/python3.11/site-packages (from requests<3.0.0,>=2.13.0->spacy>=3->spacy[ja]>=3->TTS) (3.4.1)\n",
      "Requirement already satisfied: idna<4,>=2.5 in /home/jovyan/.local/lib/python3.11/site-packages (from requests<3.0.0,>=2.13.0->spacy>=3->spacy[ja]>=3->TTS) (3.10)\n",
      "Requirement already satisfied: urllib3<3,>=1.21.1 in /home/jovyan/.local/lib/python3.11/site-packages (from requests<3.0.0,>=2.13.0->spacy>=3->spacy[ja]>=3->TTS) (2.3.0)\n",
      "Requirement already satisfied: certifi>=2017.4.17 in /home/jovyan/.local/lib/python3.11/site-packages (from requests<3.0.0,>=2.13.0->spacy>=3->spacy[ja]>=3->TTS) (2025.1.31)\n",
      "Collecting blis<1.4.0,>=1.3.0 (from thinc<8.4.0,>=8.3.4->spacy>=3->spacy[ja]>=3->TTS)\n",
      "  Downloading blis-1.3.0-cp311-cp311-manylinux_2_17_x86_64.manylinux2014_x86_64.whl.metadata (7.4 kB)\n",
      "Collecting confection<1.0.0,>=0.0.1 (from thinc<8.4.0,>=8.3.4->spacy>=3->spacy[ja]>=3->TTS)\n",
      "  Downloading confection-0.1.5-py3-none-any.whl.metadata (19 kB)\n",
      "INFO: pip is looking at multiple versions of thinc to determine which version is compatible with other requirements. This could take a while.\n",
      "Collecting thinc<8.4.0,>=8.3.4 (from spacy>=3->spacy[ja]>=3->TTS)\n",
      "  Downloading thinc-8.3.4-cp311-cp311-manylinux_2_17_x86_64.manylinux2014_x86_64.whl.metadata (15 kB)\n",
      "Collecting blis<1.3.0,>=1.2.0 (from thinc<8.4.0,>=8.3.4->spacy>=3->spacy[ja]>=3->TTS)\n",
      "  Downloading blis-1.2.1-cp311-cp311-manylinux_2_17_x86_64.manylinux2014_x86_64.whl.metadata (7.4 kB)\n",
      "Requirement already satisfied: shellingham>=1.3.0 in /home/jovyan_venv/.venv/torch2.3.0-py3.11-cuda12.1/lib/python3.11/site-packages (from typer<1.0.0,>=0.3.0->spacy>=3->spacy[ja]>=3->TTS) (1.5.4)\n",
      "Requirement already satisfied: rich>=10.11.0 in /home/jovyan_venv/.venv/torch2.3.0-py3.11-cuda12.1/lib/python3.11/site-packages (from typer<1.0.0,>=0.3.0->spacy>=3->spacy[ja]>=3->TTS) (13.7.1)\n",
      "Collecting cloudpathlib<1.0.0,>=0.7.0 (from weasel<0.5.0,>=0.1.0->spacy>=3->spacy[ja]>=3->TTS)\n",
      "  Downloading cloudpathlib-0.21.1-py3-none-any.whl.metadata (14 kB)\n",
      "Collecting smart-open<8.0.0,>=5.2.1 (from weasel<0.5.0,>=0.1.0->spacy>=3->spacy[ja]>=3->TTS)\n",
      "  Downloading smart_open-7.1.0-py3-none-any.whl.metadata (24 kB)\n",
      "Requirement already satisfied: mpmath<1.4,>=1.1.0 in /home/jovyan/.local/lib/python3.11/site-packages (from sympy->torch>=2.1->TTS) (1.3.0)\n",
      "Requirement already satisfied: absl-py>=0.4 in /home/jovyan_venv/.venv/torch2.3.0-py3.11-cuda12.1/lib/python3.11/site-packages (from tensorboard->trainer>=0.0.32->TTS) (2.1.0)\n",
      "Requirement already satisfied: grpcio>=1.48.2 in /usr/local/lib/python3.11/dist-packages (from tensorboard->trainer>=0.0.32->TTS) (1.64.0)\n",
      "Requirement already satisfied: google-auth<3,>=1.6.3 in /home/jovyan_venv/.venv/torch2.3.0-py3.11-cuda12.1/lib/python3.11/site-packages (from tensorboard->trainer>=0.0.32->TTS) (2.29.0)\n",
      "Requirement already satisfied: google-auth-oauthlib<2,>=0.5 in /home/jovyan_venv/.venv/torch2.3.0-py3.11-cuda12.1/lib/python3.11/site-packages (from tensorboard->trainer>=0.0.32->TTS) (1.2.0)\n",
      "Requirement already satisfied: markdown>=2.6.8 in /usr/local/lib/python3.11/dist-packages (from tensorboard->trainer>=0.0.32->TTS) (3.3.7)\n",
      "Requirement already satisfied: protobuf<4.24,>=3.19.6 in /usr/local/lib/python3.11/dist-packages (from tensorboard->trainer>=0.0.32->TTS) (3.20.3)\n",
      "Requirement already satisfied: tensorboard-data-server<0.8.0,>=0.7.0 in /home/jovyan_venv/.venv/torch2.3.0-py3.11-cuda12.1/lib/python3.11/site-packages (from tensorboard->trainer>=0.0.32->TTS) (0.7.2)\n",
      "Requirement already satisfied: cachetools<6.0,>=2.0.0 in /home/jovyan_venv/.venv/torch2.3.0-py3.11-cuda12.1/lib/python3.11/site-packages (from google-auth<3,>=1.6.3->tensorboard->trainer>=0.0.32->TTS) (5.3.3)\n",
      "Requirement already satisfied: pyasn1-modules>=0.2.1 in /home/jovyan_venv/.venv/torch2.3.0-py3.11-cuda12.1/lib/python3.11/site-packages (from google-auth<3,>=1.6.3->tensorboard->trainer>=0.0.32->TTS) (0.4.0)\n",
      "Requirement already satisfied: rsa<5,>=3.1.4 in /home/jovyan_venv/.venv/torch2.3.0-py3.11-cuda12.1/lib/python3.11/site-packages (from google-auth<3,>=1.6.3->tensorboard->trainer>=0.0.32->TTS) (4.9)\n",
      "Requirement already satisfied: requests-oauthlib>=0.7.0 in /home/jovyan_venv/.venv/torch2.3.0-py3.11-cuda12.1/lib/python3.11/site-packages (from google-auth-oauthlib<2,>=0.5->tensorboard->trainer>=0.0.32->TTS) (2.0.0)\n",
      "Collecting marisa-trie>=1.1.0 (from language-data>=1.2->langcodes<4.0.0,>=3.2.0->spacy>=3->spacy[ja]>=3->TTS)\n",
      "  Downloading marisa_trie-1.2.1-cp311-cp311-manylinux_2_17_x86_64.manylinux2014_x86_64.whl.metadata (9.0 kB)\n",
      "Requirement already satisfied: markdown-it-py>=2.2.0 in /home/jovyan_venv/.venv/torch2.3.0-py3.11-cuda12.1/lib/python3.11/site-packages (from rich>=10.11.0->typer<1.0.0,>=0.3.0->spacy>=3->spacy[ja]>=3->TTS) (3.0.0)\n",
      "Requirement already satisfied: pygments<3.0.0,>=2.13.0 in /usr/local/lib/python3.11/dist-packages (from rich>=10.11.0->typer<1.0.0,>=0.3.0->spacy>=3->spacy[ja]>=3->TTS) (2.18.0)\n",
      "Collecting wrapt (from smart-open<8.0.0,>=5.2.1->weasel<0.5.0,>=0.1.0->spacy>=3->spacy[ja]>=3->TTS)\n",
      "  Downloading wrapt-1.17.2-cp311-cp311-manylinux_2_5_x86_64.manylinux1_x86_64.manylinux_2_17_x86_64.manylinux2014_x86_64.whl.metadata (6.4 kB)\n",
      "Requirement already satisfied: mdurl~=0.1 in /home/jovyan_venv/.venv/torch2.3.0-py3.11-cuda12.1/lib/python3.11/site-packages (from markdown-it-py>=2.2.0->rich>=10.11.0->typer<1.0.0,>=0.3.0->spacy>=3->spacy[ja]>=3->TTS) (0.1.2)\n",
      "Requirement already satisfied: pyasn1<0.7.0,>=0.4.6 in /home/jovyan_venv/.venv/torch2.3.0-py3.11-cuda12.1/lib/python3.11/site-packages (from pyasn1-modules>=0.2.1->google-auth<3,>=1.6.3->tensorboard->trainer>=0.0.32->TTS) (0.6.0)\n",
      "Requirement already satisfied: oauthlib>=3.0.0 in /usr/lib/python3/dist-packages (from requests-oauthlib>=0.7.0->google-auth-oauthlib<2,>=0.5->tensorboard->trainer>=0.0.32->TTS) (3.2.0)\n",
      "Downloading TTS-0.22.0-cp311-cp311-manylinux1_x86_64.whl (937 kB)\n",
      "\u001b[2K   \u001b[90m━━━━━━━━━━━━━━━━━━━━━━━━━━━━━━━━━━━━━━━━\u001b[0m \u001b[32m938.0/938.0 kB\u001b[0m \u001b[31m4.1 MB/s\u001b[0m eta \u001b[36m0:00:00\u001b[0m\n",
      "\u001b[?25hDownloading anyascii-0.3.2-py3-none-any.whl (289 kB)\n",
      "Downloading coqpit-0.0.17-py3-none-any.whl (13 kB)\n",
      "Downloading g2pkk-0.1.2-py3-none-any.whl (25 kB)\n",
      "Downloading inflect-7.5.0-py3-none-any.whl (35 kB)\n",
      "Downloading librosa-0.11.0-py3-none-any.whl (260 kB)\n",
      "Downloading num2words-0.5.14-py3-none-any.whl (163 kB)\n",
      "Downloading numba-0.61.2-cp311-cp311-manylinux2014_x86_64.manylinux_2_17_x86_64.whl (3.8 MB)\n",
      "\u001b[2K   \u001b[90m━━━━━━━━━━━━━━━━━━━━━━━━━━━━━━━━━━━━━━━━\u001b[0m \u001b[32m3.8/3.8 MB\u001b[0m \u001b[31m8.3 MB/s\u001b[0m eta \u001b[36m0:00:00\u001b[0mta \u001b[36m0:00:01\u001b[0mm\n",
      "\u001b[?25hDownloading numpy-1.26.4-cp311-cp311-manylinux_2_17_x86_64.manylinux2014_x86_64.whl (18.3 MB)\n",
      "\u001b[2K   \u001b[90m━━━━━━━━━━━━━━━━━━━━━━━━━━━━━━━━━━━━━━━━\u001b[0m \u001b[32m18.3/18.3 MB\u001b[0m \u001b[31m35.3 MB/s\u001b[0m eta \u001b[36m0:00:00\u001b[0m:00:01\u001b[0m\n",
      "\u001b[?25hDownloading pandas-1.5.3-cp311-cp311-manylinux_2_17_x86_64.manylinux2014_x86_64.whl (12.0 MB)\n",
      "\u001b[2K   \u001b[90m━━━━━━━━━━━━━━━━━━━━━━━━━━━━━━━━━━━━━━━━\u001b[0m \u001b[32m12.0/12.0 MB\u001b[0m \u001b[31m24.9 MB/s\u001b[0m eta \u001b[36m0:00:00\u001b[0m:00:01\u001b[0m\n",
      "\u001b[?25hDownloading pysbd-0.3.4-py3-none-any.whl (71 kB)\n",
      "Downloading soundfile-0.13.1-py2.py3-none-manylinux_2_28_x86_64.whl (1.3 MB)\n",
      "\u001b[2K   \u001b[90m━━━━━━━━━━━━━━━━━━━━━━━━━━━━━━━━━━━━━━━━\u001b[0m \u001b[32m1.3/1.3 MB\u001b[0m \u001b[31m6.1 MB/s\u001b[0m eta \u001b[36m0:00:00\u001b[0m\n",
      "\u001b[?25hDownloading spacy-3.8.4-cp311-cp311-manylinux_2_17_x86_64.manylinux2014_x86_64.whl (30.6 MB)\n",
      "\u001b[2K   \u001b[90m━━━━━━━━━━━━━━━━━━━━━━━━━━━━━━━━━━━━━━━━\u001b[0m \u001b[32m30.6/30.6 MB\u001b[0m \u001b[31m26.5 MB/s\u001b[0m eta \u001b[36m0:00:00\u001b[0m00:01\u001b[0m00:01\u001b[0m\n",
      "\u001b[?25hDownloading trainer-0.0.36-py3-none-any.whl (51 kB)\n",
      "Downloading umap_learn-0.5.7-py3-none-any.whl (88 kB)\n",
      "Downloading Unidecode-1.4.0-py3-none-any.whl (235 kB)\n",
      "Downloading bangla-0.0.5-py3-none-any.whl (5.1 kB)\n",
      "Downloading bnunicodenormalizer-0.1.7-py3-none-any.whl (23 kB)\n",
      "Downloading hangul_romanize-0.1.0-py3-none-any.whl (4.6 kB)\n",
      "Downloading pypinyin-0.54.0-py2.py3-none-any.whl (837 kB)\n",
      "\u001b[2K   \u001b[90m━━━━━━━━━━━━━━━━━━━━━━━━━━━━━━━━━━━━━━━━\u001b[0m \u001b[32m837.0/837.0 kB\u001b[0m \u001b[31m2.9 MB/s\u001b[0m eta \u001b[36m0:00:00\u001b[0mta \u001b[36m0:00:01\u001b[0m\n",
      "\u001b[?25hDownloading audioread-3.0.1-py3-none-any.whl (23 kB)\n",
      "Downloading catalogue-2.0.10-py3-none-any.whl (17 kB)\n",
      "Downloading cymem-2.0.11-cp311-cp311-manylinux_2_17_x86_64.manylinux2014_x86_64.whl (218 kB)\n",
      "Downloading dateparser-1.1.8-py2.py3-none-any.whl (293 kB)\n",
      "Downloading jsonlines-1.2.0-py2.py3-none-any.whl (7.6 kB)\n",
      "Downloading langcodes-3.5.0-py3-none-any.whl (182 kB)\n",
      "Downloading llvmlite-0.44.0-cp311-cp311-manylinux_2_17_x86_64.manylinux2014_x86_64.whl (42.4 MB)\n",
      "\u001b[2K   \u001b[90m━━━━━━━━━━━━━━━━━━━━━━━━━━━━━━━━━━━━━━━━\u001b[0m \u001b[32m42.4/42.4 MB\u001b[0m \u001b[31m29.3 MB/s\u001b[0m eta \u001b[36m0:00:00\u001b[0m00:01\u001b[0m00:01\u001b[0mm\n",
      "\u001b[?25hDownloading msgpack-1.1.0-cp311-cp311-manylinux_2_17_x86_64.manylinux2014_x86_64.whl (403 kB)\n",
      "Downloading murmurhash-1.0.12-cp311-cp311-manylinux_2_5_x86_64.manylinux1_x86_64.manylinux_2_17_x86_64.manylinux2014_x86_64.whl (134 kB)\n",
      "Downloading networkx-2.8.8-py3-none-any.whl (2.0 MB)\n",
      "\u001b[2K   \u001b[90m━━━━━━━━━━━━━━━━━━━━━━━━━━━━━━━━━━━━━━━━\u001b[0m \u001b[32m2.0/2.0 MB\u001b[0m \u001b[31m7.2 MB/s\u001b[0m eta \u001b[36m0:00:00\u001b[0meta \u001b[36m0:00:01\u001b[0m\n",
      "\u001b[?25hDownloading pooch-1.8.2-py3-none-any.whl (64 kB)\n",
      "Downloading preshed-3.0.9-cp311-cp311-manylinux_2_5_x86_64.manylinux1_x86_64.manylinux_2_17_x86_64.manylinux2014_x86_64.whl (157 kB)\n",
      "Downloading pynndescent-0.5.13-py3-none-any.whl (56 kB)\n",
      "Downloading python_crfsuite-0.9.11-cp311-cp311-manylinux_2_17_x86_64.manylinux2014_x86_64.whl (1.3 MB)\n",
      "\u001b[2K   \u001b[90m━━━━━━━━━━━━━━━━━━━━━━━━━━━━━━━━━━━━━━━━\u001b[0m \u001b[32m1.3/1.3 MB\u001b[0m \u001b[31m2.8 MB/s\u001b[0m eta \u001b[36m0:00:00\u001b[0meta \u001b[36m0:00:01\u001b[0m\n",
      "\u001b[?25hDownloading soxr-0.5.0.post1-cp311-cp311-manylinux_2_17_x86_64.manylinux2014_x86_64.whl (252 kB)\n",
      "Downloading spacy_legacy-3.0.12-py2.py3-none-any.whl (29 kB)\n",
      "Downloading spacy_loggers-1.0.5-py3-none-any.whl (22 kB)\n",
      "Downloading srsly-2.5.1-cp311-cp311-manylinux_2_17_x86_64.manylinux2014_x86_64.whl (1.1 MB)\n",
      "\u001b[2K   \u001b[90m━━━━━━━━━━━━━━━━━━━━━━━━━━━━━━━━━━━━━━━━\u001b[0m \u001b[32m1.1/1.1 MB\u001b[0m \u001b[31m4.7 MB/s\u001b[0m eta \u001b[36m0:00:00\u001b[0m\n",
      "\u001b[?25hDownloading SudachiDict_core-20250129-py3-none-any.whl (72.1 MB)\n",
      "\u001b[2K   \u001b[90m━━━━━━━━━━━━━━━━━━━━━━━━━━━━━━━━━━━━━━━━\u001b[0m \u001b[32m72.1/72.1 MB\u001b[0m \u001b[31m51.4 MB/s\u001b[0m eta \u001b[36m0:00:00\u001b[0m:00:01\u001b[0m00:01\u001b[0m\n",
      "\u001b[?25hDownloading SudachiPy-0.6.10-cp311-cp311-manylinux_2_17_x86_64.manylinux2014_x86_64.whl (1.7 MB)\n",
      "\u001b[2K   \u001b[90m━━━━━━━━━━━━━━━━━━━━━━━━━━━━━━━━━━━━━━━━\u001b[0m \u001b[32m1.7/1.7 MB\u001b[0m \u001b[31m5.1 MB/s\u001b[0m eta \u001b[36m0:00:00\u001b[0meta \u001b[36m0:00:01\u001b[0m\n",
      "\u001b[?25hDownloading thinc-8.3.4-cp311-cp311-manylinux_2_17_x86_64.manylinux2014_x86_64.whl (3.9 MB)\n",
      "\u001b[2K   \u001b[90m━━━━━━━━━━━━━━━━━━━━━━━━━━━━━━━━━━━━━━━━\u001b[0m \u001b[32m3.9/3.9 MB\u001b[0m \u001b[31m15.4 MB/s\u001b[0m eta \u001b[36m0:00:00\u001b[0mta \u001b[36m0:00:01\u001b[0m\n",
      "\u001b[?25hDownloading typeguard-4.4.2-py3-none-any.whl (35 kB)\n",
      "Downloading wasabi-1.1.3-py3-none-any.whl (27 kB)\n",
      "Downloading weasel-0.4.1-py3-none-any.whl (50 kB)\n",
      "Downloading blis-1.2.1-cp311-cp311-manylinux_2_17_x86_64.manylinux2014_x86_64.whl (11.7 MB)\n",
      "\u001b[2K   \u001b[90m━━━━━━━━━━━━━━━━━━━━━━━━━━━━━━━━━━━━━━━━\u001b[0m \u001b[32m11.7/11.7 MB\u001b[0m \u001b[31m14.7 MB/s\u001b[0m eta \u001b[36m0:00:00\u001b[0m00:01\u001b[0m0:01\u001b[0m\n",
      "\u001b[?25hDownloading cloudpathlib-0.21.1-py3-none-any.whl (52 kB)\n",
      "Downloading confection-0.1.5-py3-none-any.whl (35 kB)\n",
      "Downloading language_data-1.3.0-py3-none-any.whl (5.4 MB)\n",
      "\u001b[2K   \u001b[90m━━━━━━━━━━━━━━━━━━━━━━━━━━━━━━━━━━━━━━━━\u001b[0m \u001b[32m5.4/5.4 MB\u001b[0m \u001b[31m4.7 MB/s\u001b[0m eta \u001b[36m0:00:00\u001b[0mta \u001b[36m0:00:01\u001b[0m\n",
      "\u001b[?25hDownloading smart_open-7.1.0-py3-none-any.whl (61 kB)\n",
      "Downloading marisa_trie-1.2.1-cp311-cp311-manylinux_2_17_x86_64.manylinux2014_x86_64.whl (1.4 MB)\n",
      "\u001b[2K   \u001b[90m━━━━━━━━━━━━━━━━━━━━━━━━━━━━━━━━━━━━━━━━\u001b[0m \u001b[32m1.4/1.4 MB\u001b[0m \u001b[31m3.2 MB/s\u001b[0m eta \u001b[36m0:00:00\u001b[0meta \u001b[36m0:00:01\u001b[0m\n",
      "\u001b[?25hDownloading wrapt-1.17.2-cp311-cp311-manylinux_2_5_x86_64.manylinux1_x86_64.manylinux_2_17_x86_64.manylinux2014_x86_64.whl (83 kB)\n",
      "Building wheels for collected packages: gruut, encodec, bnnumerizer, jieba, docopt, gruut-ipa, gruut_lang_de, gruut_lang_en, gruut_lang_es, gruut_lang_fr\n",
      "  Building wheel for gruut (setup.py) ... \u001b[?25ldone\n",
      "\u001b[?25h  Created wheel for gruut: filename=gruut-2.2.3-py3-none-any.whl size=75791 sha256=c155ed045b8f835ee9849b93ecafa109e5542afa85807fa6cd6a5949265a5316\n",
      "  Stored in directory: /home/jovyan/.cache/pip/wheels/1f/a0/bc/4dacab52579ab464cffafbe7a8e3792dd36ad9ac288b264843\n",
      "  Building wheel for encodec (setup.py) ... \u001b[?25ldone\n",
      "\u001b[?25h  Created wheel for encodec: filename=encodec-0.1.1-py3-none-any.whl size=45762 sha256=b346db5a63227a3fe361253298c77d277fc0959b9b8aaae0bade024b0ade2855\n",
      "  Stored in directory: /home/jovyan/.cache/pip/wheels/b4/a4/88/480018a664e58ca7ce6708759193ee51b017b3b72aa3df8a85\n",
      "  Building wheel for bnnumerizer (setup.py) ... \u001b[?25ldone\n",
      "\u001b[?25h  Created wheel for bnnumerizer: filename=bnnumerizer-0.0.2-py3-none-any.whl size=5261 sha256=7be05bf09ebf451f6f96c968673e58219cc803008f6a497dadabe5a8e23c9735\n",
      "  Stored in directory: /home/jovyan/.cache/pip/wheels/9e/b9/e3/4145416693824818c0b931988a692676ecd4bbf2ea41d1eedd\n",
      "  Building wheel for jieba (setup.py) ... \u001b[?25ldone\n",
      "\u001b[?25h  Created wheel for jieba: filename=jieba-0.42.1-py3-none-any.whl size=19314459 sha256=2b74a0c19aab1ac5b6e70d022385b542e859148773bcaa60f9868be91e3acaec\n",
      "  Stored in directory: /home/jovyan/.cache/pip/wheels/ac/60/cf/538a1f183409caf1fc136b5d2c2dee329001ef6da2c5084bef\n",
      "  Building wheel for docopt (setup.py) ... \u001b[?25ldone\n",
      "\u001b[?25h  Created wheel for docopt: filename=docopt-0.6.2-py2.py3-none-any.whl size=13706 sha256=9ac1d6803bce11fbd4db656a2bc14883a6654f33b0c1fe4a1f02b83932adbb70\n",
      "  Stored in directory: /home/jovyan/.cache/pip/wheels/1a/b0/8c/4b75c4116c31f83c8f9f047231251e13cc74481cca4a78a9ce\n",
      "  Building wheel for gruut-ipa (setup.py) ... \u001b[?25ldone\n",
      "\u001b[?25h  Created wheel for gruut-ipa: filename=gruut_ipa-0.13.0-py3-none-any.whl size=104870 sha256=359d60393ae34c6c51c14d5d6dc9fa6057fcb78ebb9c9fb00365465be2656a93\n",
      "  Stored in directory: /home/jovyan/.cache/pip/wheels/c7/10/89/a5908dd7a9a032229684b7679396785e19f816667f788087fb\n",
      "  Building wheel for gruut_lang_de (setup.py) ... \u001b[?25ldone\n",
      "\u001b[?25h  Created wheel for gruut_lang_de: filename=gruut_lang_de-2.0.1-py3-none-any.whl size=18498315 sha256=20fa9f42ef70962830f971c173dc4d2536430dbd7408d3d1ca53bff5e29b1b4b\n",
      "  Stored in directory: /home/jovyan/.cache/pip/wheels/87/fa/df/5fdf5d3cc26ba859b8698a1f28581d1a6aa081edc6df9847ab\n",
      "  Building wheel for gruut_lang_en (setup.py) ... \u001b[?25ldone\n",
      "\u001b[?25h  Created wheel for gruut_lang_en: filename=gruut_lang_en-2.0.1-py3-none-any.whl size=15326857 sha256=e5e9af3785047ea9c11e4d2c54302e3f71b4583605b41241b86176788a745a3a\n",
      "  Stored in directory: /home/jovyan/.cache/pip/wheels/06/30/52/dc5cd222b4bbde285838fed1f96636e96f85cd75493e79a978\n",
      "  Building wheel for gruut_lang_es (setup.py) ... \u001b[?25ldone\n",
      "\u001b[?25h  Created wheel for gruut_lang_es: filename=gruut_lang_es-2.0.1-py3-none-any.whl size=32173928 sha256=e3b5ed1cfdd35e37a783bfbcffd38246bcecc03bcfc5f5be0ef51027343c9cdc\n",
      "  Stored in directory: /home/jovyan/.cache/pip/wheels/c8/eb/59/30b5d15e56347e595f613036cbea0f807ad9621c75cd75d912\n",
      "  Building wheel for gruut_lang_fr (setup.py) ... \u001b[?25ldone\n",
      "\u001b[?25h  Created wheel for gruut_lang_fr: filename=gruut_lang_fr-2.0.2-py3-none-any.whl size=10968768 sha256=42655826830663564e4710e644cbdec1e99dc4520c86c072cb4fae5f478c7f78\n",
      "  Stored in directory: /home/jovyan/.cache/pip/wheels/e0/e7/a0/7c416a3eeaa94ca71bf7bcbc6289cced2263d8ba35e82444bb\n",
      "Successfully built gruut encodec bnnumerizer jieba docopt gruut-ipa gruut_lang_de gruut_lang_en gruut_lang_es gruut_lang_fr\n",
      "Installing collected packages: sudachipy, jieba, hangul-romanize, gruut_lang_fr, gruut_lang_es, gruut_lang_en, gruut_lang_de, docopt, cymem, bnunicodenormalizer, bnnumerizer, bangla, wrapt, wasabi, unidecode, typeguard, sudachidict_core, spacy-loggers, spacy-legacy, python-crfsuite, pysbd, pypinyin, numpy, num2words, networkx, murmurhash, msgpack, marisa-trie, llvmlite, jsonlines, gruut-ipa, coqpit, cloudpathlib, catalogue, audioread, anyascii, srsly, soxr, soundfile, smart-open, preshed, pooch, pandas, numba, language-data, inflect, g2pkk, dateparser, blis, langcodes, gruut, confection, weasel, thinc, pynndescent, librosa, umap-learn, trainer, spacy, encodec, TTS\n",
      "  Attempting uninstall: numpy\n",
      "    Found existing installation: numpy 2.2.4\n",
      "    Not uninstalling numpy at /home/jovyan/.local/lib/python3.11/site-packages, outside environment /home/jovyan/.venv/torch2.3.0-py3.11-cuda12.1\n",
      "    Can't uninstall 'numpy'. No files were found to uninstall.\n",
      "  Attempting uninstall: networkx\n",
      "    Found existing installation: networkx 3.4.2\n",
      "    Not uninstalling networkx at /home/jovyan/.local/lib/python3.11/site-packages, outside environment /home/jovyan/.venv/torch2.3.0-py3.11-cuda12.1\n",
      "    Can't uninstall 'networkx'. No files were found to uninstall.\n",
      "  Attempting uninstall: pandas\n",
      "    Found existing installation: pandas 2.2.2\n",
      "    Not uninstalling pandas at /usr/local/lib/python3.11/dist-packages, outside environment /home/jovyan/.venv/torch2.3.0-py3.11-cuda12.1\n",
      "    Can't uninstall 'pandas'. No files were found to uninstall.\n",
      "\u001b[31mERROR: pip's dependency resolver does not currently take into account all the packages that are installed. This behaviour is the source of the following dependency conflicts.\n",
      "gradio 4.23.0 requires markupsafe~=2.0, but you have markupsafe 3.0.2 which is incompatible.\u001b[0m\u001b[31m\n",
      "\u001b[0mSuccessfully installed TTS-0.22.0 anyascii-0.3.2 audioread-3.0.1 bangla-0.0.5 blis-1.2.1 bnnumerizer-0.0.2 bnunicodenormalizer-0.1.7 catalogue-2.0.10 cloudpathlib-0.21.1 confection-0.1.5 coqpit-0.0.17 cymem-2.0.11 dateparser-1.1.8 docopt-0.6.2 encodec-0.1.1 g2pkk-0.1.2 gruut-2.2.3 gruut-ipa-0.13.0 gruut_lang_de-2.0.1 gruut_lang_en-2.0.1 gruut_lang_es-2.0.1 gruut_lang_fr-2.0.2 hangul-romanize-0.1.0 inflect-7.5.0 jieba-0.42.1 jsonlines-1.2.0 langcodes-3.5.0 language-data-1.3.0 librosa-0.11.0 llvmlite-0.44.0 marisa-trie-1.2.1 msgpack-1.1.0 murmurhash-1.0.12 networkx-2.8.8 num2words-0.5.14 numba-0.61.2 numpy-1.26.4 pandas-1.5.3 pooch-1.8.2 preshed-3.0.9 pynndescent-0.5.13 pypinyin-0.54.0 pysbd-0.3.4 python-crfsuite-0.9.11 smart-open-7.1.0 soundfile-0.13.1 soxr-0.5.0.post1 spacy-3.8.4 spacy-legacy-3.0.12 spacy-loggers-1.0.5 srsly-2.5.1 sudachidict_core-20250129 sudachipy-0.6.10 thinc-8.3.4 trainer-0.0.36 typeguard-4.4.2 umap-learn-0.5.7 unidecode-1.4.0 wasabi-1.1.3 weasel-0.4.1 wrapt-1.17.2\n",
      "\n",
      "\u001b[1m[\u001b[0m\u001b[34;49mnotice\u001b[0m\u001b[1;39;49m]\u001b[0m\u001b[39;49m A new release of pip is available: \u001b[0m\u001b[31;49m25.0.1\u001b[0m\u001b[39;49m -> \u001b[0m\u001b[32;49m25.1.1\u001b[0m\n",
      "\u001b[1m[\u001b[0m\u001b[34;49mnotice\u001b[0m\u001b[1;39;49m]\u001b[0m\u001b[39;49m To update, run: \u001b[0m\u001b[32;49mpip install --upgrade pip\u001b[0m\n",
      "Note: you may need to restart the kernel to use updated packages.\n"
     ]
    }
   ],
   "source": [
    "## Coqui TTS 설치하\n",
    "pip install TTS"
   ]
  },
  {
   "cell_type": "code",
   "execution_count": 24,
   "id": "3d0bda92-d14e-4f46-9198-d02b8528a6fe",
   "metadata": {
    "execution": {
     "iopub.execute_input": "2025-05-17T06:34:06.533480Z",
     "iopub.status.busy": "2025-05-17T06:34:06.532861Z",
     "iopub.status.idle": "2025-05-17T06:34:06.543135Z",
     "shell.execute_reply": "2025-05-17T06:34:06.541563Z",
     "shell.execute_reply.started": "2025-05-17T06:34:06.533429Z"
    }
   },
   "outputs": [],
   "source": [
    "import TTS"
   ]
  },
  {
   "cell_type": "code",
   "execution_count": 28,
   "id": "6c15c95d-09eb-4e63-8afa-0b34558397d3",
   "metadata": {
    "execution": {
     "iopub.execute_input": "2025-05-17T06:37:11.536348Z",
     "iopub.status.busy": "2025-05-17T06:37:11.535735Z",
     "iopub.status.idle": "2025-05-17T06:37:11.556476Z",
     "shell.execute_reply": "2025-05-17T06:37:11.555000Z",
     "shell.execute_reply.started": "2025-05-17T06:37:11.536300Z"
    }
   },
   "outputs": [
    {
     "name": "stdout",
     "output_type": "stream",
     "text": [
      "<TTS.utils.manage.ModelManager object at 0x7f6fd6d87cd0>\n"
     ]
    }
   ],
   "source": [
    "from TTS.api import TTS\n",
    "\n",
    "tts = TTS()  # 빈 인스턴스 생성\n",
    "models = tts.list_models()\n",
    "print(models)  # 리스트로 출력해야 함"
   ]
  },
  {
   "cell_type": "code",
   "execution_count": 29,
   "id": "b883ce90-0090-4fa9-b993-95dd5a9fbb26",
   "metadata": {
    "execution": {
     "iopub.execute_input": "2025-05-17T06:56:11.530584Z",
     "iopub.status.busy": "2025-05-17T06:56:11.529978Z",
     "iopub.status.idle": "2025-05-17T06:56:19.683843Z",
     "shell.execute_reply": "2025-05-17T06:56:19.681626Z",
     "shell.execute_reply.started": "2025-05-17T06:56:11.530534Z"
    }
   },
   "outputs": [
    {
     "name": "stdout",
     "output_type": "stream",
     "text": [
      "Collecting google-cloud-texttospeech\n",
      "  Downloading google_cloud_texttospeech-2.27.0-py3-none-any.whl.metadata (9.6 kB)\n",
      "Collecting google-api-core!=2.0.*,!=2.1.*,!=2.10.*,!=2.2.*,!=2.3.*,!=2.4.*,!=2.5.*,!=2.6.*,!=2.7.*,!=2.8.*,!=2.9.*,<3.0.0,>=1.34.1 (from google-api-core[grpc]!=2.0.*,!=2.1.*,!=2.10.*,!=2.2.*,!=2.3.*,!=2.4.*,!=2.5.*,!=2.6.*,!=2.7.*,!=2.8.*,!=2.9.*,<3.0.0,>=1.34.1->google-cloud-texttospeech)\n",
      "  Downloading google_api_core-2.24.2-py3-none-any.whl.metadata (3.0 kB)\n",
      "Requirement already satisfied: google-auth!=2.24.0,!=2.25.0,<3.0.0,>=2.14.1 in /home/jovyan_venv/.venv/torch2.3.0-py3.11-cuda12.1/lib/python3.11/site-packages (from google-cloud-texttospeech) (2.29.0)\n",
      "Collecting proto-plus<2.0.0,>=1.22.3 (from google-cloud-texttospeech)\n",
      "  Downloading proto_plus-1.26.1-py3-none-any.whl.metadata (2.2 kB)\n",
      "Requirement already satisfied: protobuf!=4.21.0,!=4.21.1,!=4.21.2,!=4.21.3,!=4.21.4,!=4.21.5,<7.0.0,>=3.20.2 in /usr/local/lib/python3.11/dist-packages (from google-cloud-texttospeech) (3.20.3)\n",
      "Collecting googleapis-common-protos<2.0.0,>=1.56.2 (from google-api-core!=2.0.*,!=2.1.*,!=2.10.*,!=2.2.*,!=2.3.*,!=2.4.*,!=2.5.*,!=2.6.*,!=2.7.*,!=2.8.*,!=2.9.*,<3.0.0,>=1.34.1->google-api-core[grpc]!=2.0.*,!=2.1.*,!=2.10.*,!=2.2.*,!=2.3.*,!=2.4.*,!=2.5.*,!=2.6.*,!=2.7.*,!=2.8.*,!=2.9.*,<3.0.0,>=1.34.1->google-cloud-texttospeech)\n",
      "  Downloading googleapis_common_protos-1.70.0-py3-none-any.whl.metadata (9.3 kB)\n",
      "Requirement already satisfied: requests<3.0.0,>=2.18.0 in /home/jovyan/.local/lib/python3.11/site-packages (from google-api-core!=2.0.*,!=2.1.*,!=2.10.*,!=2.2.*,!=2.3.*,!=2.4.*,!=2.5.*,!=2.6.*,!=2.7.*,!=2.8.*,!=2.9.*,<3.0.0,>=1.34.1->google-api-core[grpc]!=2.0.*,!=2.1.*,!=2.10.*,!=2.2.*,!=2.3.*,!=2.4.*,!=2.5.*,!=2.6.*,!=2.7.*,!=2.8.*,!=2.9.*,<3.0.0,>=1.34.1->google-cloud-texttospeech) (2.32.3)\n",
      "Requirement already satisfied: grpcio<2.0dev,>=1.33.2 in /usr/local/lib/python3.11/dist-packages (from google-api-core[grpc]!=2.0.*,!=2.1.*,!=2.10.*,!=2.2.*,!=2.3.*,!=2.4.*,!=2.5.*,!=2.6.*,!=2.7.*,!=2.8.*,!=2.9.*,<3.0.0,>=1.34.1->google-cloud-texttospeech) (1.64.0)\n",
      "Collecting grpcio-status<2.0.dev0,>=1.33.2 (from google-api-core[grpc]!=2.0.*,!=2.1.*,!=2.10.*,!=2.2.*,!=2.3.*,!=2.4.*,!=2.5.*,!=2.6.*,!=2.7.*,!=2.8.*,!=2.9.*,<3.0.0,>=1.34.1->google-cloud-texttospeech)\n",
      "  Downloading grpcio_status-1.72.0rc1-py3-none-any.whl.metadata (1.1 kB)\n",
      "Requirement already satisfied: cachetools<6.0,>=2.0.0 in /home/jovyan_venv/.venv/torch2.3.0-py3.11-cuda12.1/lib/python3.11/site-packages (from google-auth!=2.24.0,!=2.25.0,<3.0.0,>=2.14.1->google-cloud-texttospeech) (5.3.3)\n",
      "Requirement already satisfied: pyasn1-modules>=0.2.1 in /home/jovyan_venv/.venv/torch2.3.0-py3.11-cuda12.1/lib/python3.11/site-packages (from google-auth!=2.24.0,!=2.25.0,<3.0.0,>=2.14.1->google-cloud-texttospeech) (0.4.0)\n",
      "Requirement already satisfied: rsa<5,>=3.1.4 in /home/jovyan_venv/.venv/torch2.3.0-py3.11-cuda12.1/lib/python3.11/site-packages (from google-auth!=2.24.0,!=2.25.0,<3.0.0,>=2.14.1->google-cloud-texttospeech) (4.9)\n",
      "Collecting protobuf!=4.21.0,!=4.21.1,!=4.21.2,!=4.21.3,!=4.21.4,!=4.21.5,<7.0.0,>=3.20.2 (from google-cloud-texttospeech)\n",
      "  Downloading protobuf-6.31.0-cp39-abi3-manylinux2014_x86_64.whl.metadata (593 bytes)\n",
      "Collecting grpcio<2.0dev,>=1.33.2 (from google-api-core[grpc]!=2.0.*,!=2.1.*,!=2.10.*,!=2.2.*,!=2.3.*,!=2.4.*,!=2.5.*,!=2.6.*,!=2.7.*,!=2.8.*,!=2.9.*,<3.0.0,>=1.34.1->google-cloud-texttospeech)\n",
      "  Downloading grpcio-1.72.0rc1-cp311-cp311-manylinux_2_17_x86_64.manylinux2014_x86_64.whl.metadata (3.8 kB)\n",
      "Requirement already satisfied: pyasn1<0.7.0,>=0.4.6 in /home/jovyan_venv/.venv/torch2.3.0-py3.11-cuda12.1/lib/python3.11/site-packages (from pyasn1-modules>=0.2.1->google-auth!=2.24.0,!=2.25.0,<3.0.0,>=2.14.1->google-cloud-texttospeech) (0.6.0)\n",
      "Requirement already satisfied: charset-normalizer<4,>=2 in /home/jovyan/.local/lib/python3.11/site-packages (from requests<3.0.0,>=2.18.0->google-api-core!=2.0.*,!=2.1.*,!=2.10.*,!=2.2.*,!=2.3.*,!=2.4.*,!=2.5.*,!=2.6.*,!=2.7.*,!=2.8.*,!=2.9.*,<3.0.0,>=1.34.1->google-api-core[grpc]!=2.0.*,!=2.1.*,!=2.10.*,!=2.2.*,!=2.3.*,!=2.4.*,!=2.5.*,!=2.6.*,!=2.7.*,!=2.8.*,!=2.9.*,<3.0.0,>=1.34.1->google-cloud-texttospeech) (3.4.1)\n",
      "Requirement already satisfied: idna<4,>=2.5 in /home/jovyan/.local/lib/python3.11/site-packages (from requests<3.0.0,>=2.18.0->google-api-core!=2.0.*,!=2.1.*,!=2.10.*,!=2.2.*,!=2.3.*,!=2.4.*,!=2.5.*,!=2.6.*,!=2.7.*,!=2.8.*,!=2.9.*,<3.0.0,>=1.34.1->google-api-core[grpc]!=2.0.*,!=2.1.*,!=2.10.*,!=2.2.*,!=2.3.*,!=2.4.*,!=2.5.*,!=2.6.*,!=2.7.*,!=2.8.*,!=2.9.*,<3.0.0,>=1.34.1->google-cloud-texttospeech) (3.10)\n",
      "Requirement already satisfied: urllib3<3,>=1.21.1 in /home/jovyan/.local/lib/python3.11/site-packages (from requests<3.0.0,>=2.18.0->google-api-core!=2.0.*,!=2.1.*,!=2.10.*,!=2.2.*,!=2.3.*,!=2.4.*,!=2.5.*,!=2.6.*,!=2.7.*,!=2.8.*,!=2.9.*,<3.0.0,>=1.34.1->google-api-core[grpc]!=2.0.*,!=2.1.*,!=2.10.*,!=2.2.*,!=2.3.*,!=2.4.*,!=2.5.*,!=2.6.*,!=2.7.*,!=2.8.*,!=2.9.*,<3.0.0,>=1.34.1->google-cloud-texttospeech) (2.3.0)\n",
      "Requirement already satisfied: certifi>=2017.4.17 in /home/jovyan/.local/lib/python3.11/site-packages (from requests<3.0.0,>=2.18.0->google-api-core!=2.0.*,!=2.1.*,!=2.10.*,!=2.2.*,!=2.3.*,!=2.4.*,!=2.5.*,!=2.6.*,!=2.7.*,!=2.8.*,!=2.9.*,<3.0.0,>=1.34.1->google-api-core[grpc]!=2.0.*,!=2.1.*,!=2.10.*,!=2.2.*,!=2.3.*,!=2.4.*,!=2.5.*,!=2.6.*,!=2.7.*,!=2.8.*,!=2.9.*,<3.0.0,>=1.34.1->google-cloud-texttospeech) (2025.1.31)\n",
      "Downloading google_cloud_texttospeech-2.27.0-py3-none-any.whl (189 kB)\n",
      "Downloading google_api_core-2.24.2-py3-none-any.whl (160 kB)\n",
      "Downloading proto_plus-1.26.1-py3-none-any.whl (50 kB)\n",
      "Downloading googleapis_common_protos-1.70.0-py3-none-any.whl (294 kB)\n",
      "Downloading grpcio_status-1.72.0rc1-py3-none-any.whl (14 kB)\n",
      "Downloading protobuf-6.31.0-cp39-abi3-manylinux2014_x86_64.whl (320 kB)\n",
      "Downloading grpcio-1.72.0rc1-cp311-cp311-manylinux_2_17_x86_64.manylinux2014_x86_64.whl (5.9 MB)\n",
      "\u001b[2K   \u001b[90m━━━━━━━━━━━━━━━━━━━━━━━━━━━━━━━━━━━━━━━━\u001b[0m \u001b[32m5.9/5.9 MB\u001b[0m \u001b[31m20.3 MB/s\u001b[0m eta \u001b[36m0:00:00\u001b[0ma \u001b[36m0:00:01\u001b[0m\n",
      "\u001b[?25hInstalling collected packages: protobuf, grpcio, proto-plus, googleapis-common-protos, grpcio-status, google-api-core, google-cloud-texttospeech\n",
      "  Attempting uninstall: protobuf\n",
      "    Found existing installation: protobuf 3.20.3\n",
      "    Not uninstalling protobuf at /usr/local/lib/python3.11/dist-packages, outside environment /home/jovyan/.venv/torch2.3.0-py3.11-cuda12.1\n",
      "    Can't uninstall 'protobuf'. No files were found to uninstall.\n",
      "  Attempting uninstall: grpcio\n",
      "    Found existing installation: grpcio 1.64.0\n",
      "    Not uninstalling grpcio at /usr/local/lib/python3.11/dist-packages, outside environment /home/jovyan/.venv/torch2.3.0-py3.11-cuda12.1\n",
      "    Can't uninstall 'grpcio'. No files were found to uninstall.\n",
      "\u001b[31mERROR: pip's dependency resolver does not currently take into account all the packages that are installed. This behaviour is the source of the following dependency conflicts.\n",
      "streamlit 1.28.2 requires protobuf<5,>=3.20, but you have protobuf 6.31.0 which is incompatible.\n",
      "tensorboard 2.15.0 requires protobuf<4.24,>=3.19.6, but you have protobuf 6.31.0 which is incompatible.\u001b[0m\u001b[31m\n",
      "\u001b[0mSuccessfully installed google-api-core-2.24.2 google-cloud-texttospeech-2.27.0 googleapis-common-protos-1.70.0 grpcio-1.72.0rc1 grpcio-status-1.72.0rc1 proto-plus-1.26.1 protobuf-6.31.0\n",
      "\n",
      "\u001b[1m[\u001b[0m\u001b[34;49mnotice\u001b[0m\u001b[1;39;49m]\u001b[0m\u001b[39;49m A new release of pip is available: \u001b[0m\u001b[31;49m25.0.1\u001b[0m\u001b[39;49m -> \u001b[0m\u001b[32;49m25.1.1\u001b[0m\n",
      "\u001b[1m[\u001b[0m\u001b[34;49mnotice\u001b[0m\u001b[1;39;49m]\u001b[0m\u001b[39;49m To update, run: \u001b[0m\u001b[32;49mpip install --upgrade pip\u001b[0m\n",
      "Note: you may need to restart the kernel to use updated packages.\n"
     ]
    }
   ],
   "source": [
    "pip install google-cloud-texttospeech"
   ]
  },
  {
   "cell_type": "code",
   "execution_count": 22,
   "id": "070be549-d893-4278-ad6c-e32db25b02aa",
   "metadata": {
    "execution": {
     "iopub.execute_input": "2025-05-17T06:05:06.530000Z",
     "iopub.status.busy": "2025-05-17T06:05:06.529305Z",
     "iopub.status.idle": "2025-05-17T06:05:06.544884Z",
     "shell.execute_reply": "2025-05-17T06:05:06.544026Z",
     "shell.execute_reply.started": "2025-05-17T06:05:06.529951Z"
    }
   },
   "outputs": [
    {
     "ename": "SyntaxError",
     "evalue": "'(' was never closed (1796138086.py, line 8)",
     "output_type": "error",
     "traceback": [
      "\u001b[0;36m  Cell \u001b[0;32mIn[22], line 8\u001b[0;36m\u001b[0m\n\u001b[0;31m    self.output_dir = Path(\u001b[0m\n\u001b[0m                          ^\u001b[0m\n\u001b[0;31mSyntaxError\u001b[0m\u001b[0;31m:\u001b[0m '(' was never closed\n"
     ]
    }
   ],
   "source": [
    "import uuid\n",
    "import subprocess\n",
    "from pathlib import Path\n",
    "\n",
    "class PhoneticEncoder:\n",
    "    def __init__(self, tts_engine='gtts', audio_model='facebook/wav2vec2-base-960h', output_dir='tts_outputs'):\n",
    "        self.tts_engine = tts_engine.lower()   ## 대소문자에 유연히 대응하기 위해 lower() 붙인다\n",
    "        self.output_dir = Path(output_dir)\n",
    "        self.output_dir.mkdir(parents=True, exist_ok=True)\n",
    "        \n",
    "        self.processor = Wav2Vec2Processor.from_pretrained(audio_model)\n",
    "        self.model = Wav2Vec2Model.from_pretrained(audio_model)\n",
    "        self.model.eval()\n",
    "\n",
    "    def synthesize_tts(self, text: str, save_path=None):\n",
    "        # 고유한 파일명의 생성\n",
    "        uid = str(uuid.uuid4())[:8]\n",
    "        mp3_path = self.output_dir / f\"{uid}.mp3\"\n",
    "        wav_path = self.output_dir / f\"{uid}.wav\"\n",
    "        \n",
    "        if self.tts_engine == 'gtts':\n",
    "            tts = gTTS(text=text, lang='ko')\n",
    "            tts.save(mp3_path)   ## 추후 수정 ㄱㄱ\n",
    "            subprocess.call([\"ffmpeg\", \"-y\", \"-i\", mp3_path, wav_path])\n",
    "        elif self.tts_engine == 'clova':\n",
    "            # TODO: Clova API 호출 구현\n",
    "            pass\n",
    "        elif self.tts_engine == 'typecast':\n",
    "            # 실제 Typecast API는 공개 X -> studio 요청 복제 방식\n",
    "            import requests\n",
    "            \n",
    "            pass\n",
    "        elif self.tts_engine == 'onair':\n",
    "            # TODO: 온에어스튜디오 API 호출 구현\n",
    "            pass\n",
    "        return save_path\n",
    "\n",
    "    def extract_features(self, audio_path):\n",
    "        waveform, sample_rate = torchaudio.load(audio_path)\n",
    "        if sample_rate != 16000:\n",
    "            resampler = torchaudio.transforms.Resample(orig_freq=sample_rate, new_freq=16000)\n",
    "            waveform = resampler(waveform)\n",
    "            \n",
    "        inputs = self.processor(waveform.squeeze(), sampling_rate=16000, return_tensors=\"pt\")\n",
    "        with torch.no_grad():\n",
    "            outputs = self.model(**inputs)\n",
    "        return outputs.last_hidden_state.mean(dim=1)  # [1, hidden_dim]\n",
    "\n",
    "    def encode(self, text):\n",
    "        wav_path = self.synthesize_tts(text)\n",
    "        feature = self.extract_features(wav_path)\n",
    "        os.remove(wav_path)  # 클린업\n",
    "        return feature"
   ]
  },
  {
   "cell_type": "code",
   "execution_count": 11,
   "id": "80f6d60e-c9c2-4d16-b205-a9cb0f479acd",
   "metadata": {
    "execution": {
     "iopub.execute_input": "2025-05-15T13:21:51.590674Z",
     "iopub.status.busy": "2025-05-15T13:21:51.590016Z",
     "iopub.status.idle": "2025-05-15T13:22:11.634690Z",
     "shell.execute_reply": "2025-05-15T13:22:11.546033Z",
     "shell.execute_reply.started": "2025-05-15T13:21:51.590622Z"
    }
   },
   "outputs": [
    {
     "name": "stderr",
     "output_type": "stream",
     "text": [
      "ffmpeg version 4.4.2-0ubuntu0.22.04.1 Copyright (c) 2000-2021 the FFmpeg developers\n",
      "  built with gcc 11 (Ubuntu 11.2.0-19ubuntu1)\n",
      "  configuration: --prefix=/usr --extra-version=0ubuntu0.22.04.1 --toolchain=hardened --libdir=/usr/lib/x86_64-linux-gnu --incdir=/usr/include/x86_64-linux-gnu --arch=amd64 --enable-gpl --disable-stripping --enable-gnutls --enable-ladspa --enable-libaom --enable-libass --enable-libbluray --enable-libbs2b --enable-libcaca --enable-libcdio --enable-libcodec2 --enable-libdav1d --enable-libflite --enable-libfontconfig --enable-libfreetype --enable-libfribidi --enable-libgme --enable-libgsm --enable-libjack --enable-libmp3lame --enable-libmysofa --enable-libopenjpeg --enable-libopenmpt --enable-libopus --enable-libpulse --enable-librabbitmq --enable-librubberband --enable-libshine --enable-libsnappy --enable-libsoxr --enable-libspeex --enable-libsrt --enable-libssh --enable-libtheora --enable-libtwolame --enable-libvidstab --enable-libvorbis --enable-libvpx --enable-libwebp --enable-libx265 --enable-libxml2 --enable-libxvid --enable-libzimg --enable-libzmq --enable-libzvbi --enable-lv2 --enable-omx --enable-openal --enable-opencl --enable-opengl --enable-sdl2 --enable-pocketsphinx --enable-librsvg --enable-libmfx --enable-libdc1394 --enable-libdrm --enable-libiec61883 --enable-chromaprint --enable-frei0r --enable-libx264 --enable-shared\n",
      "  libavutil      56. 70.100 / 56. 70.100\n",
      "  libavcodec     58.134.100 / 58.134.100\n",
      "  libavformat    58. 76.100 / 58. 76.100\n",
      "  libavdevice    58. 13.100 / 58. 13.100\n",
      "  libavfilter     7.110.100 /  7.110.100\n",
      "  libswscale      5.  9.100 /  5.  9.100\n",
      "  libswresample   3.  9.100 /  3.  9.100\n",
      "  libpostproc    55.  9.100 / 55.  9.100\n",
      "[mp3 @ 0x562cb1b03000] Estimating duration from bitrate, this may be inaccurate\n",
      "Input #0, mp3, from 'temp.mp3':\n",
      "  Duration: 00:00:03.50, start: 0.000000, bitrate: 64 kb/s\n",
      "  Stream #0:0: Audio: mp3, 24000 Hz, mono, fltp, 64 kb/s\n",
      "Stream mapping:\n",
      "  Stream #0:0 -> #0:0 (mp3 (mp3float) -> pcm_s16le (native))\n",
      "Press [q] to stop, [?] for help\n",
      "Output #0, wav, to 'temp.wav':\n",
      "  Metadata:\n",
      "    ISFT            : Lavf58.76.100\n",
      "  Stream #0:0: Audio: pcm_s16le ([1][0][0][0] / 0x0001), 24000 Hz, mono, s16, 384 kb/s\n",
      "    Metadata:\n",
      "      encoder         : Lavc58.134.100 pcm_s16le\n",
      "size=     164kB time=00:00:03.48 bitrate= 386.8kbits/s speed=74.8x    \n",
      "video:0kB audio:164kB subtitle:0kB other streams:0kB global headers:0kB muxing overhead: 0.046376%\n",
      "Some weights of Wav2Vec2Model were not initialized from the model checkpoint at facebook/wav2vec2-base-960h and are newly initialized: ['masked_spec_embed']\n",
      "You should probably TRAIN this model on a down-stream task to be able to use it for predictions and inference.\n"
     ]
    },
    {
     "name": "stdout",
     "output_type": "stream",
     "text": [
      "torch.Size([1, 768])\n"
     ]
    }
   ],
   "source": [
    "text = \"안녕하세요 제 이름은 이준연입니다.\"\n",
    "audio_path = text_to_speech(text)\n",
    "vector = extract_vector(audio_path)\n",
    "\n",
    "print(vector.shape)  # torch.Size([1, 768]) 예상\n"
   ]
  },
  {
   "cell_type": "code",
   "execution_count": 13,
   "id": "b2a5b5d2-3732-4570-a323-27bd04d3882a",
   "metadata": {
    "execution": {
     "iopub.execute_input": "2025-05-17T05:06:06.583413Z",
     "iopub.status.busy": "2025-05-17T05:06:06.582837Z",
     "iopub.status.idle": "2025-05-17T05:06:27.439003Z",
     "shell.execute_reply": "2025-05-17T05:06:27.436367Z",
     "shell.execute_reply.started": "2025-05-17T05:06:06.583364Z"
    }
   },
   "outputs": [
    {
     "name": "stderr",
     "output_type": "stream",
     "text": [
      "Some weights of Wav2Vec2Model were not initialized from the model checkpoint at facebook/wav2vec2-base-960h and are newly initialized: ['masked_spec_embed']\n",
      "You should probably TRAIN this model on a down-stream task to be able to use it for predictions and inference.\n"
     ]
    },
    {
     "name": "stdout",
     "output_type": "stream",
     "text": [
      "torch.Size([1, 768])\n"
     ]
    }
   ],
   "source": [
    "clova = './tts_outputs/clova.wav'\n",
    "\n",
    "clova_vec = extract_vector(clova)\n",
    "print(clova_vec.shape)"
   ]
  },
  {
   "cell_type": "code",
   "execution_count": 14,
   "id": "0edce77a-de40-461a-b114-a691bbc3bd85",
   "metadata": {
    "execution": {
     "iopub.execute_input": "2025-05-17T05:07:42.584823Z",
     "iopub.status.busy": "2025-05-17T05:07:42.584032Z",
     "iopub.status.idle": "2025-05-17T05:07:56.543920Z",
     "shell.execute_reply": "2025-05-17T05:07:56.541353Z",
     "shell.execute_reply.started": "2025-05-17T05:07:42.584788Z"
    }
   },
   "outputs": [
    {
     "name": "stderr",
     "output_type": "stream",
     "text": [
      "Some weights of Wav2Vec2Model were not initialized from the model checkpoint at facebook/wav2vec2-base-960h and are newly initialized: ['masked_spec_embed']\n",
      "You should probably TRAIN this model on a down-stream task to be able to use it for predictions and inference.\n"
     ]
    },
    {
     "name": "stdout",
     "output_type": "stream",
     "text": [
      "torch.Size([1, 768])\n"
     ]
    }
   ],
   "source": [
    "supertone = './tts_outputs/supertone.wav'\n",
    "\n",
    "sup_vec = extract_vector(supertone)\n",
    "print(sup_vec.shape)"
   ]
  },
  {
   "cell_type": "code",
   "execution_count": 17,
   "id": "71aaa3a3-8263-4772-97b8-e983e3262da6",
   "metadata": {
    "execution": {
     "iopub.execute_input": "2025-05-17T05:11:52.601681Z",
     "iopub.status.busy": "2025-05-17T05:11:52.600926Z",
     "iopub.status.idle": "2025-05-17T05:11:52.620010Z",
     "shell.execute_reply": "2025-05-17T05:11:52.619301Z",
     "shell.execute_reply.started": "2025-05-17T05:11:52.601632Z"
    }
   },
   "outputs": [
    {
     "data": {
      "text/plain": [
       "tensor([[-4.1123e-02,  2.2890e-02, -1.7424e-01, -7.5351e-02,  1.8082e-02,\n",
       "         -8.2891e-02,  8.2069e-02, -5.4274e-02,  1.2113e-01, -2.5420e-01,\n",
       "         -2.8606e-02,  3.7833e-02,  6.9866e-02,  2.2229e-02, -4.9953e-02,\n",
       "         -1.0299e-01, -3.9015e-01,  2.6891e-01,  2.3025e-02,  1.7120e-01,\n",
       "         -1.8626e-01,  7.8245e-03,  2.3361e-01,  1.1185e-02,  3.7002e-02,\n",
       "         -6.1427e-02, -1.1436e-01,  2.8381e-02, -6.1882e-02, -1.0242e-01,\n",
       "          1.7282e-01, -1.1406e-02, -8.5707e-03, -7.4070e-02, -2.2447e-01,\n",
       "          9.6262e-02, -8.3751e-02, -2.2628e-01, -1.0771e-01,  4.8555e-02,\n",
       "         -1.6932e-01, -1.2376e-01, -6.7140e-02,  4.8048e-02, -1.0018e-01,\n",
       "         -2.1151e-01, -5.6015e-02, -7.8787e-02,  4.1236e-03,  5.5842e-03,\n",
       "         -1.0245e-01, -1.3810e-02,  2.2846e-01,  4.2632e-02,  1.7081e-02,\n",
       "         -8.0891e-02,  4.3343e-02, -3.4825e-01, -1.3386e-01, -1.5058e-01,\n",
       "         -3.0673e-02, -1.3192e-02,  1.9419e-02,  1.0631e-01, -6.2462e-03,\n",
       "          7.9567e-02, -4.6762e-03, -6.9399e-02, -1.9525e-01, -2.4555e-02,\n",
       "         -4.2331e-02, -3.6010e-02, -1.7810e-01, -5.9212e-02,  2.8089e-02,\n",
       "         -3.8751e-02,  1.0995e-03, -5.9371e-02, -4.7207e-02, -3.2767e-02,\n",
       "         -9.5016e-02,  2.8603e-01,  3.1505e-02, -1.1410e-01, -2.3239e-02,\n",
       "          7.5647e-02, -3.2023e-02, -1.6844e-01, -1.4588e-02,  3.8306e-02,\n",
       "          4.1932e-01, -4.0033e-02,  7.2862e-02,  5.8005e-02,  6.8303e-02,\n",
       "          1.3557e-03, -1.0626e-01,  6.9394e-03, -3.9044e-02, -1.4426e-01,\n",
       "         -1.2072e-02, -1.0773e-01,  9.7294e-02, -8.0057e-02,  9.0049e-02,\n",
       "          2.5703e-01, -1.7391e-01,  1.6363e-01, -1.1803e-02,  5.8579e-02,\n",
       "         -1.8980e-02,  1.3251e-01, -4.6664e-02,  1.4027e-02, -2.0381e-01,\n",
       "          1.5237e-02,  3.8745e-02, -7.9583e-03, -1.0911e-01, -7.1792e-02,\n",
       "          5.4736e-02, -1.0348e-02,  2.5455e-01,  1.6921e-02, -7.9170e-03,\n",
       "         -2.1646e-01,  1.8183e-01,  3.2555e-01, -9.5344e-02,  6.5117e-02,\n",
       "         -2.9331e-02, -1.0902e-01,  5.3299e-02, -5.2464e-03, -2.3764e-02,\n",
       "          2.1397e-02, -1.8172e-01,  1.1885e-03, -2.7009e-02, -4.1126e-01,\n",
       "          6.2084e-03,  8.6178e-02, -1.3351e-02,  3.3906e-01,  5.2593e-02,\n",
       "         -2.2510e-02, -5.0837e-01,  1.0171e-01, -2.0152e-01, -1.1109e-01,\n",
       "          5.1090e-02,  3.2839e-02, -3.7585e-02, -2.2050e-01,  5.0245e-02,\n",
       "          8.2015e-03,  5.1886e-03, -3.1482e-02,  3.7489e-01, -5.6690e-03,\n",
       "         -1.5356e-01,  2.2893e-01,  1.3487e-01,  4.7175e-02,  1.0601e-01,\n",
       "         -2.7729e-02, -1.5542e-01, -2.1738e-01,  4.1218e-01,  2.8465e-01,\n",
       "          3.4480e-02, -7.7639e-02, -1.4785e-02,  3.8661e-01, -5.5954e-03,\n",
       "          2.1915e-02, -1.7802e-01,  5.0609e-02, -2.2523e-01,  4.2276e-04,\n",
       "          1.3768e-02, -3.0784e-02, -3.6957e-02, -1.7953e-01, -1.4881e-01,\n",
       "         -3.5881e-02, -3.0400e-02, -3.4354e-01, -1.2979e-01,  1.1861e-01,\n",
       "         -2.5818e-02, -6.6686e-02, -9.7903e-02, -1.6744e-02,  1.5623e-03,\n",
       "          1.2931e-01,  1.6974e-01,  6.1123e-01,  6.1465e-02, -3.9909e-02,\n",
       "          1.5169e-02,  2.2429e-02, -2.0311e-01,  5.7792e-01, -1.4529e-01,\n",
       "          7.6121e-02,  6.5543e-03, -5.1363e-02,  3.4594e-02,  1.8585e-01,\n",
       "         -5.3666e-01,  9.4393e-02, -6.6618e-03,  1.2006e-02,  2.9927e-02,\n",
       "         -9.4032e-02,  9.4857e-02, -1.2464e-01, -4.5414e-02,  3.4640e-02,\n",
       "         -1.7476e-01, -3.3039e-02, -1.5292e-01, -6.1123e-02, -1.8289e-01,\n",
       "         -9.1750e-03, -5.4638e-03,  2.0857e-01, -4.0348e-02,  1.1870e-01,\n",
       "          5.2638e-02,  2.1770e-03,  2.4679e-02, -6.0836e-02, -4.9801e-02,\n",
       "         -1.3365e-02,  1.5428e-03, -2.4847e-03,  1.5835e-03,  3.1767e-01,\n",
       "         -6.3281e-02, -1.2192e-01, -3.9302e-02,  3.4148e-03, -2.0955e-01,\n",
       "          2.0400e-02, -2.6157e-02,  1.2489e-01,  4.6269e-02, -1.9109e-01,\n",
       "         -3.5708e-02,  1.8931e-01,  8.5278e-02, -4.1208e-02, -3.8133e-02,\n",
       "          1.1658e-01, -2.4172e-01,  7.5129e-02,  2.5865e-02, -6.1802e-02,\n",
       "          1.5728e-02,  2.2373e-02, -6.4546e-02,  4.2013e-02, -4.5310e-01,\n",
       "          9.3013e-02, -3.4305e-02, -1.0449e-01, -1.0864e-01, -3.3339e-01,\n",
       "         -1.1824e-02,  1.4579e-01, -4.1804e-02,  1.5788e-02, -5.2996e-02,\n",
       "         -4.8674e-02,  1.4177e-02,  6.8748e-02, -2.7976e-02,  4.5491e-02,\n",
       "         -4.3086e-02,  1.0179e-01,  1.1183e-01,  3.7513e-01,  7.3697e-02,\n",
       "         -1.1793e-01,  1.3928e-01, -4.5492e-02, -2.8429e-01,  2.3454e-01,\n",
       "         -2.2993e-01, -4.4207e-02,  2.7570e-02,  1.2134e-01,  8.2164e-02,\n",
       "         -7.1292e-02, -1.0680e-03,  2.7983e-03, -2.1633e-01,  1.1931e-02,\n",
       "         -4.2521e-02, -5.1958e-01, -8.7007e-02, -1.2743e-02,  1.0326e-01,\n",
       "         -1.5658e-03,  2.2590e-01,  4.5344e-02,  4.9877e-02, -2.4266e-01,\n",
       "          1.0156e-01, -1.9021e-01, -3.3970e-02,  2.1482e-01,  1.3719e-01,\n",
       "          2.7267e-02, -1.0984e-01, -1.5619e-01, -5.8263e-02, -2.4198e-01,\n",
       "          2.0776e-01,  1.5471e-01,  2.2778e-02,  1.6892e-02, -7.2457e-02,\n",
       "         -5.1531e-02, -1.1022e-01,  3.3784e-02,  9.7890e-02, -6.4467e-02,\n",
       "         -3.7561e-02,  4.8296e-02, -4.3161e-02,  1.0670e-01,  1.1210e-01,\n",
       "          1.0750e-01,  2.6284e-02,  4.3089e-02, -1.2324e-01, -1.7596e-02,\n",
       "         -1.3461e-01,  4.3097e-02, -1.5027e-01, -2.7149e-02,  2.5190e-01,\n",
       "          8.0147e-02,  2.4816e-01,  6.6674e-02,  5.1754e-01, -1.8386e-03,\n",
       "         -2.1383e-01,  5.7203e-02,  5.5528e-01,  2.1683e-02,  1.2772e-01,\n",
       "         -1.1684e-01,  1.4316e-02, -1.3402e-01, -2.7532e-02, -2.5037e-01,\n",
       "          1.9974e-01,  1.1637e-01, -1.3938e-01,  5.6411e-02,  4.7880e-02,\n",
       "         -1.0517e+00,  4.4125e-02,  1.1598e-01,  8.8793e-02,  1.3888e-03,\n",
       "          5.2079e-03,  1.0474e-01,  8.0422e-03,  1.4110e-01,  2.4859e-01,\n",
       "          5.8230e-01,  2.7026e-01,  1.2916e-02,  2.0690e-02, -6.8806e-02,\n",
       "          1.4921e-02,  2.2640e-01,  1.5285e-01,  1.3971e-01,  1.9287e-01,\n",
       "          1.3524e-01, -5.0146e-01, -1.0686e-01,  4.1372e-02,  8.5948e-02,\n",
       "         -2.4778e-01, -8.0236e-03,  1.2073e-01,  5.2717e-01, -7.6404e-02,\n",
       "          6.5999e-01, -7.8603e-02,  2.3938e-01,  5.7065e-02,  2.9164e-02,\n",
       "         -3.1730e-01, -2.7019e-01,  2.7555e-02,  1.6783e-03, -2.3286e-03,\n",
       "          1.5834e-01, -8.0274e-02,  6.1158e-02,  5.8625e-02,  4.2970e-02,\n",
       "          1.3850e-03, -6.2484e-02, -6.6685e-02,  2.3771e-02, -3.1376e-01,\n",
       "          1.0973e-04,  2.4734e-01,  3.8591e-02, -2.6800e-02,  2.5908e-02,\n",
       "         -1.2210e-02, -8.1671e-02,  9.4419e-02, -8.1073e-02,  4.6489e-02,\n",
       "         -1.1169e-01, -1.0071e-01, -7.0158e-02, -4.5996e-03, -2.2348e-01,\n",
       "          2.0634e-02,  6.1720e-02,  5.8901e-01,  5.4439e-02, -1.8097e-01,\n",
       "         -1.0146e-01, -1.7323e-02, -1.0982e-01,  1.2139e-01,  1.6065e-01,\n",
       "         -5.3244e-02, -1.7851e-01,  6.2091e-02,  1.2722e-02, -3.9482e-02,\n",
       "          4.4459e-01, -4.6521e-01, -1.3992e-02, -1.3202e-02, -2.6418e-01,\n",
       "         -5.4775e-02, -6.2563e-02, -6.3401e-01, -6.0788e-02,  5.5438e-03,\n",
       "         -3.8339e-02, -2.5920e-01, -4.0539e-02,  1.0999e-01,  4.5182e-02,\n",
       "         -4.9335e-02,  2.3090e-02, -4.4093e-02, -1.2179e-01,  4.2008e-02,\n",
       "         -2.7802e-01,  5.9080e-02,  3.5649e-03,  6.0830e-02,  5.4450e-02,\n",
       "         -7.3725e-02,  2.2312e-01, -5.9612e-02, -1.3179e-01,  1.8226e-01,\n",
       "         -4.5465e-02,  2.5157e-01,  1.0224e-01, -1.6523e-02, -2.4187e-02,\n",
       "          1.0150e-01, -3.6107e-01, -4.1056e-02,  1.6526e-02,  2.3524e-01,\n",
       "         -1.3208e-01,  1.1785e-01, -1.5787e-01, -1.2784e-02, -9.7904e-02,\n",
       "          3.0075e-02,  2.0095e-04, -2.9899e-03, -2.2437e-02,  2.0235e-01,\n",
       "          6.5795e-02,  7.8752e-03, -1.2885e-01, -1.0012e-01,  6.3632e-03,\n",
       "         -2.7341e-02,  4.1621e-02,  5.7487e-02,  1.4381e-01, -2.0178e-01,\n",
       "         -4.4265e-02, -1.1140e-01, -1.7636e-01, -6.4699e-02, -9.8692e-02,\n",
       "          1.5225e-02, -1.7255e-01, -5.4946e-02, -1.0026e-02, -8.1200e-02,\n",
       "          1.3237e-01,  6.6682e-02, -2.4602e-02, -3.6029e-02,  1.5654e-02,\n",
       "         -2.6451e-02, -7.4341e-02,  2.4830e-01, -2.7026e-02,  1.6036e-02,\n",
       "          4.4469e-02, -5.0480e-01, -6.0041e-03, -2.2745e-01,  1.6484e-02,\n",
       "          9.5066e-02,  7.4170e-02, -7.7365e-03,  4.0973e-02,  2.8234e-01,\n",
       "         -7.4243e-03, -6.8145e-02,  4.1293e-02,  4.7214e-02,  5.2201e-02,\n",
       "         -2.9891e-01, -5.8893e-02,  1.2790e-01, -3.3676e-02,  2.5082e-01,\n",
       "          3.1312e-02,  1.3590e-01,  5.3611e-01, -1.3423e-01, -3.1762e-02,\n",
       "          3.8856e-02, -3.9955e-02,  1.2931e-01, -1.4280e-02, -5.2725e-03,\n",
       "         -3.8026e-01, -1.1765e-01, -9.6482e-02, -4.6158e-02,  3.4010e-01,\n",
       "         -8.2181e-03, -8.4898e-02, -2.0463e-02, -3.4069e-02,  1.2091e-03,\n",
       "          8.0898e-03,  5.5784e-02,  2.1561e-02,  1.0748e-02,  9.8769e-02,\n",
       "          1.9160e-02, -9.8332e-03,  9.7685e-02, -2.8274e-02,  2.3426e-01,\n",
       "          6.0083e-02,  2.2575e-02,  3.0502e-01,  2.2502e-01,  5.7846e-02,\n",
       "         -2.7764e-03,  2.1712e-01, -7.9563e-02, -5.3509e-02, -6.2529e-02,\n",
       "         -1.9742e-01,  4.3009e-02,  4.4275e-02,  1.0635e-01, -4.0150e-02,\n",
       "          1.0935e-01,  1.8982e-01,  1.1235e-02, -3.2459e-02,  2.8243e-01,\n",
       "          6.2219e-02,  5.6148e-03,  1.9947e-02, -8.8866e-03,  7.6038e-02,\n",
       "          2.2042e-02, -1.4177e-02,  6.3727e-03, -3.0309e-01, -9.5546e-02,\n",
       "          3.0513e-02, -1.5937e-02,  2.1012e-01,  5.9407e-04, -1.6048e-02,\n",
       "          2.8290e-01, -2.4031e-02,  9.5636e-02,  1.9362e-01,  6.5588e-02,\n",
       "         -3.9179e-02,  1.3182e-01,  2.9705e-02, -2.9865e-01, -2.9669e-01,\n",
       "          3.1980e-02,  2.3353e-02,  3.3920e-02,  9.3322e-02, -6.8158e-02,\n",
       "          4.6943e-02,  2.3068e-01, -6.9913e-02, -1.4740e-01,  2.7068e-02,\n",
       "          7.7876e-03,  5.8179e-02,  4.4824e-01, -8.2022e-02,  3.5693e-04,\n",
       "          6.2872e-02,  7.6654e-02,  1.0105e-01,  1.1690e-01, -2.3937e-02,\n",
       "          1.9429e-01, -1.6975e-01,  3.8560e-02,  6.6408e-03, -4.4328e-02,\n",
       "          2.0969e-01, -3.3941e-02, -6.7869e-02, -7.5521e-02,  4.2506e-02,\n",
       "         -1.3366e-01, -1.3357e-01, -2.6118e-02, -9.0819e-02, -1.4091e-01,\n",
       "         -4.3161e-03, -2.0482e-01,  9.7782e-02, -3.8530e-02,  9.0748e-03,\n",
       "          2.0302e-01,  4.7466e-02, -1.6898e-02, -4.4258e-01,  9.5448e-03,\n",
       "          5.6967e-02,  8.2621e-02, -1.6263e-01, -1.0768e-01,  1.7864e-01,\n",
       "         -1.7258e-02, -1.7129e-02,  7.5007e-02, -2.6347e-02, -2.2001e-02,\n",
       "         -2.8858e-03, -7.2022e-02,  2.2021e-02, -1.1723e-02,  5.5832e-02,\n",
       "         -1.5779e-02,  3.2640e-02, -1.1685e-01, -3.1551e-03, -2.7786e-01,\n",
       "          6.4837e-01,  2.2956e-01,  8.0959e-02, -2.8815e-01,  3.3431e-01,\n",
       "         -1.3234e-01,  1.1871e-01,  1.1143e-02, -2.8564e-02,  1.5649e-02,\n",
       "          2.2743e-01,  5.5083e-02, -7.8096e-02,  8.8220e-02,  4.2628e-02,\n",
       "          2.0349e-01, -2.6296e-02,  1.7744e-01,  1.1870e-01,  1.3669e-01,\n",
       "          6.0078e-02,  3.9275e-02, -5.0157e-02, -3.3711e-02,  2.1020e-01,\n",
       "         -1.1364e-01, -1.7450e-02, -1.7461e-01,  1.7077e-01, -1.6524e-01,\n",
       "          2.8261e-01,  5.9853e-02,  2.9440e-01,  1.9590e-01, -1.5056e-01,\n",
       "          1.0389e-01,  1.9769e-01,  5.7014e-03, -7.2956e-02, -1.5224e-02,\n",
       "          9.3961e-03,  9.3581e-02,  8.8121e-03,  4.2049e-02,  3.9447e-02,\n",
       "          1.7314e-01, -9.7420e-02, -3.3231e-01, -9.4854e-02,  1.4970e-01,\n",
       "          3.0463e-02,  1.1418e-01, -1.9915e-01, -3.3918e-02, -2.5079e-01,\n",
       "         -5.3224e-02, -6.4051e-02, -1.1012e-01,  4.8155e-02, -3.3325e-02,\n",
       "         -7.0869e-02, -4.0744e-02,  9.5194e-02, -7.6232e-02, -6.5317e-02,\n",
       "         -8.2055e-02,  1.6190e-02, -1.0850e-02, -4.7949e-02, -3.0422e-02,\n",
       "         -4.3367e-02,  5.1335e-04,  4.3354e-02,  2.5103e-01, -5.3389e-02,\n",
       "         -1.2344e-01,  8.5857e-02, -2.4430e-01,  9.0097e-03, -1.6146e-02,\n",
       "         -1.6146e-01,  1.7730e-02,  4.4094e-02]])"
      ]
     },
     "execution_count": 17,
     "metadata": {},
     "output_type": "execute_result"
    }
   ],
   "source": [
    "# 3개의 feature_vector\n",
    "sup_vec\n",
    "clova_vec\n",
    "vector"
   ]
  },
  {
   "cell_type": "code",
   "execution_count": 20,
   "id": "b7e1d57c-1254-483b-807b-65a64b12111b",
   "metadata": {
    "execution": {
     "iopub.execute_input": "2025-05-17T05:18:23.588541Z",
     "iopub.status.busy": "2025-05-17T05:18:23.588204Z",
     "iopub.status.idle": "2025-05-17T05:18:23.602798Z",
     "shell.execute_reply": "2025-05-17T05:18:23.601536Z",
     "shell.execute_reply.started": "2025-05-17T05:18:23.588518Z"
    }
   },
   "outputs": [
    {
     "name": "stdout",
     "output_type": "stream",
     "text": [
      "tensor([0.9616])\n",
      "tensor([0.9830])\n",
      "tensor([0.9609])\n"
     ]
    }
   ],
   "source": [
    "## 3개의 Cosine Similarity 비교하기?\n",
    "from torch.nn.functional import cosine_similarity\n",
    "\n",
    "sim_sup_gtts = cosine_similarity(vector, sup_vec)\n",
    "sim_clova_sup = cosine_similarity(sup_vec, clova_vec)\n",
    "sim_clova_gtts = cosine_similarity(vector, clova_vec)\n",
    "\n",
    "print(sim_sup_gtts)\n",
    "print(sim_clova_sup)\n",
    "print(sim_clova_gtts)\n",
    "\n",
    "## 결과 해석하자면.... sup_vec이랑 clova_vec 이 두가지가 유사도가 가장 높더라..."
   ]
  },
  {
   "cell_type": "code",
   "execution_count": null,
   "id": "acfd9214-26e5-4e3c-a4eb-c823ea0b57d6",
   "metadata": {},
   "outputs": [],
   "source": []
  }
 ],
 "metadata": {
  "kernelspec": {
   "display_name": "torch2.3.0-py3.11-cuda12.1",
   "language": "python",
   "name": "torch2.3.0-py3.11-cuda12.1"
  },
  "language_info": {
   "codemirror_mode": {
    "name": "ipython",
    "version": 3
   },
   "file_extension": ".py",
   "mimetype": "text/x-python",
   "name": "python",
   "nbconvert_exporter": "python",
   "pygments_lexer": "ipython3",
   "version": "3.11.0rc1"
  }
 },
 "nbformat": 4,
 "nbformat_minor": 5
}
